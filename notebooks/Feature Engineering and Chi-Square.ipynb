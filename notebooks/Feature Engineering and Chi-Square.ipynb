{
 "cells": [
  {
   "cell_type": "code",
   "execution_count": 1,
   "metadata": {},
   "outputs": [],
   "source": [
    "from sklearn.feature_extraction.text import TfidfVectorizer\n",
    "import seaborn as sns\n",
    "import matplotlib.pyplot as plt\n",
    "import numpy as np\n",
    "import scipy.stats as sp\n",
    "from scipy.stats import chi2_contingency\n",
    "from scipy.stats import chi2\n",
    "import statsmodels.api as sm\n",
    "import matplotlib.pyplot as plt\n",
    "import pandas as pd\n",
    "import os"
   ]
  },
  {
   "cell_type": "markdown",
   "metadata": {},
   "source": [
    "# Import packages, establish starting global varibles and load the data\n",
    "- We can quickly see the dimensions of the dataframe along with the fact that ther are no null values.  \n",
    "- It is worth noting, in many real-world scenarios this is HIGHLY uncommon. "
   ]
  },
  {
   "cell_type": "code",
   "execution_count": 2,
   "metadata": {},
   "outputs": [
    {
     "name": "stdout",
     "output_type": "stream",
     "text": [
      "File \"news.csv\": 6335 rows x 4 columns\n",
      "\n",
      "<class 'pandas.core.frame.DataFrame'>\n",
      "RangeIndex: 6335 entries, 0 to 6334\n",
      "Data columns (total 4 columns):\n",
      "Unnamed: 0    6335 non-null int64\n",
      "title         6335 non-null object\n",
      "text          6335 non-null object\n",
      "label         6335 non-null object\n",
      "dtypes: int64(1), object(3)\n",
      "memory usage: 198.1+ KB\n"
     ]
    }
   ],
   "source": [
    "####################\n",
    "# GLOBAL VARIABLES #\n",
    "####################\n",
    "dta_pth = '../data/'\n",
    "fn = 'news.csv'\n",
    "f_pth = os.path.join(dta_pth,fn)\n",
    "y_map = {'FAKE':0,'REAL':1}\n",
    "y_col = 'label'\n",
    "random_state = 42\n",
    "\n",
    "df = pd.read_csv(f_pth)\n",
    "print('File \"{}\": {} rows x {} columns\\n'.format(fn,df.shape[0],df.shape[1]))\n",
    "df.info()"
   ]
  },
  {
   "cell_type": "code",
   "execution_count": 3,
   "metadata": {},
   "outputs": [
    {
     "name": "stderr",
     "output_type": "stream",
     "text": [
      "/usr/local/lib/python3.7/site-packages/ipykernel_launcher.py:4: SettingWithCopyWarning: \n",
      "A value is trying to be set on a copy of a slice from a DataFrame.\n",
      "Try using .loc[row_indexer,col_indexer] = value instead\n",
      "\n",
      "See the caveats in the documentation: http://pandas.pydata.org/pandas-docs/stable/user_guide/indexing.html#returning-a-view-versus-a-copy\n",
      "  after removing the cwd from sys.path.\n"
     ]
    }
   ],
   "source": [
    "X = df.drop(y_col,axis=1)\n",
    "y = df[[y_col]]\n",
    "# encode y feature as Fake = 0, Real = 1\n",
    "y['Target'] = y[y_col].map(y_map)"
   ]
  },
  {
   "cell_type": "markdown",
   "metadata": {},
   "source": [
    "# Quickly inspect the first and last N rows to get a very high level of the data contents\n",
    "- The Title and Text fields represent the title of the article, while the text column contains the content for each article.\n",
    "- The unnamed column is a unique ID for each article in the dataset"
   ]
  },
  {
   "cell_type": "code",
   "execution_count": 4,
   "metadata": {},
   "outputs": [
    {
     "data": {
      "text/html": [
       "<div>\n",
       "<style scoped>\n",
       "    .dataframe tbody tr th:only-of-type {\n",
       "        vertical-align: middle;\n",
       "    }\n",
       "\n",
       "    .dataframe tbody tr th {\n",
       "        vertical-align: top;\n",
       "    }\n",
       "\n",
       "    .dataframe thead th {\n",
       "        text-align: right;\n",
       "    }\n",
       "</style>\n",
       "<table border=\"1\" class=\"dataframe\">\n",
       "  <thead>\n",
       "    <tr style=\"text-align: right;\">\n",
       "      <th></th>\n",
       "      <th>Unnamed: 0</th>\n",
       "      <th>title</th>\n",
       "      <th>text</th>\n",
       "      <th>label</th>\n",
       "    </tr>\n",
       "  </thead>\n",
       "  <tbody>\n",
       "    <tr>\n",
       "      <th>0</th>\n",
       "      <td>8476</td>\n",
       "      <td>You Can Smell Hillary’s Fear</td>\n",
       "      <td>Daniel Greenfield, a Shillman Journalism Fello...</td>\n",
       "      <td>FAKE</td>\n",
       "    </tr>\n",
       "    <tr>\n",
       "      <th>1</th>\n",
       "      <td>10294</td>\n",
       "      <td>Watch The Exact Moment Paul Ryan Committed Pol...</td>\n",
       "      <td>Google Pinterest Digg Linkedin Reddit Stumbleu...</td>\n",
       "      <td>FAKE</td>\n",
       "    </tr>\n",
       "    <tr>\n",
       "      <th>2</th>\n",
       "      <td>3608</td>\n",
       "      <td>Kerry to go to Paris in gesture of sympathy</td>\n",
       "      <td>U.S. Secretary of State John F. Kerry said Mon...</td>\n",
       "      <td>REAL</td>\n",
       "    </tr>\n",
       "    <tr>\n",
       "      <th>3</th>\n",
       "      <td>10142</td>\n",
       "      <td>Bernie supporters on Twitter erupt in anger ag...</td>\n",
       "      <td>— Kaydee King (@KaydeeKing) November 9, 2016 T...</td>\n",
       "      <td>FAKE</td>\n",
       "    </tr>\n",
       "    <tr>\n",
       "      <th>4</th>\n",
       "      <td>875</td>\n",
       "      <td>The Battle of New York: Why This Primary Matters</td>\n",
       "      <td>It's primary day in New York and front-runners...</td>\n",
       "      <td>REAL</td>\n",
       "    </tr>\n",
       "    <tr>\n",
       "      <th>5</th>\n",
       "      <td>6903</td>\n",
       "      <td>Tehran, USA</td>\n",
       "      <td>\\nI’m not an immigrant, but my grandparents ...</td>\n",
       "      <td>FAKE</td>\n",
       "    </tr>\n",
       "    <tr>\n",
       "      <th>6</th>\n",
       "      <td>7341</td>\n",
       "      <td>Girl Horrified At What She Watches Boyfriend D...</td>\n",
       "      <td>Share This Baylee Luciani (left), Screenshot o...</td>\n",
       "      <td>FAKE</td>\n",
       "    </tr>\n",
       "    <tr>\n",
       "      <th>7</th>\n",
       "      <td>95</td>\n",
       "      <td>‘Britain’s Schindler’ Dies at 106</td>\n",
       "      <td>A Czech stockbroker who saved more than 650 Je...</td>\n",
       "      <td>REAL</td>\n",
       "    </tr>\n",
       "    <tr>\n",
       "      <th>8</th>\n",
       "      <td>4869</td>\n",
       "      <td>Fact check: Trump and Clinton at the 'commande...</td>\n",
       "      <td>Hillary Clinton and Donald Trump made some ina...</td>\n",
       "      <td>REAL</td>\n",
       "    </tr>\n",
       "    <tr>\n",
       "      <th>9</th>\n",
       "      <td>2909</td>\n",
       "      <td>Iran reportedly makes new push for uranium con...</td>\n",
       "      <td>Iranian negotiators reportedly have made a las...</td>\n",
       "      <td>REAL</td>\n",
       "    </tr>\n",
       "  </tbody>\n",
       "</table>\n",
       "</div>"
      ],
      "text/plain": [
       "   Unnamed: 0                                              title  \\\n",
       "0        8476                       You Can Smell Hillary’s Fear   \n",
       "1       10294  Watch The Exact Moment Paul Ryan Committed Pol...   \n",
       "2        3608        Kerry to go to Paris in gesture of sympathy   \n",
       "3       10142  Bernie supporters on Twitter erupt in anger ag...   \n",
       "4         875   The Battle of New York: Why This Primary Matters   \n",
       "5        6903                                        Tehran, USA   \n",
       "6        7341  Girl Horrified At What She Watches Boyfriend D...   \n",
       "7          95                  ‘Britain’s Schindler’ Dies at 106   \n",
       "8        4869  Fact check: Trump and Clinton at the 'commande...   \n",
       "9        2909  Iran reportedly makes new push for uranium con...   \n",
       "\n",
       "                                                text label  \n",
       "0  Daniel Greenfield, a Shillman Journalism Fello...  FAKE  \n",
       "1  Google Pinterest Digg Linkedin Reddit Stumbleu...  FAKE  \n",
       "2  U.S. Secretary of State John F. Kerry said Mon...  REAL  \n",
       "3  — Kaydee King (@KaydeeKing) November 9, 2016 T...  FAKE  \n",
       "4  It's primary day in New York and front-runners...  REAL  \n",
       "5    \\nI’m not an immigrant, but my grandparents ...  FAKE  \n",
       "6  Share This Baylee Luciani (left), Screenshot o...  FAKE  \n",
       "7  A Czech stockbroker who saved more than 650 Je...  REAL  \n",
       "8  Hillary Clinton and Donald Trump made some ina...  REAL  \n",
       "9  Iranian negotiators reportedly have made a las...  REAL  "
      ]
     },
     "execution_count": 4,
     "metadata": {},
     "output_type": "execute_result"
    }
   ],
   "source": [
    "df.head(10)"
   ]
  },
  {
   "cell_type": "code",
   "execution_count": 5,
   "metadata": {},
   "outputs": [
    {
     "data": {
      "text/html": [
       "<div>\n",
       "<style scoped>\n",
       "    .dataframe tbody tr th:only-of-type {\n",
       "        vertical-align: middle;\n",
       "    }\n",
       "\n",
       "    .dataframe tbody tr th {\n",
       "        vertical-align: top;\n",
       "    }\n",
       "\n",
       "    .dataframe thead th {\n",
       "        text-align: right;\n",
       "    }\n",
       "</style>\n",
       "<table border=\"1\" class=\"dataframe\">\n",
       "  <thead>\n",
       "    <tr style=\"text-align: right;\">\n",
       "      <th></th>\n",
       "      <th>Unnamed: 0</th>\n",
       "      <th>title</th>\n",
       "      <th>text</th>\n",
       "      <th>label</th>\n",
       "    </tr>\n",
       "  </thead>\n",
       "  <tbody>\n",
       "    <tr>\n",
       "      <th>6325</th>\n",
       "      <td>8411</td>\n",
       "      <td>Will the Media Reset After the Election or Are...</td>\n",
       "      <td>Written by Peter Van Buren   venerable New Yor...</td>\n",
       "      <td>FAKE</td>\n",
       "    </tr>\n",
       "    <tr>\n",
       "      <th>6326</th>\n",
       "      <td>6143</td>\n",
       "      <td>DOJ COMPLAINT: Comey Under Fire Over Partisan ...</td>\n",
       "      <td>DOJ COMPLAINT: Comey Under Fire Over Partisan ...</td>\n",
       "      <td>FAKE</td>\n",
       "    </tr>\n",
       "    <tr>\n",
       "      <th>6327</th>\n",
       "      <td>3262</td>\n",
       "      <td>GOP Senator David Perdue Jokes About Praying f...</td>\n",
       "      <td>The freshman senator from Georgia quoted scrip...</td>\n",
       "      <td>REAL</td>\n",
       "    </tr>\n",
       "    <tr>\n",
       "      <th>6328</th>\n",
       "      <td>9337</td>\n",
       "      <td>Radio Derb Is On The Air–Leonardo And Brazil’s...</td>\n",
       "      <td></td>\n",
       "      <td>FAKE</td>\n",
       "    </tr>\n",
       "    <tr>\n",
       "      <th>6329</th>\n",
       "      <td>8737</td>\n",
       "      <td>Assange claims ‘crazed’ Clinton campaign tried...</td>\n",
       "      <td>Julian Assange has claimed the Hillary Clinton...</td>\n",
       "      <td>FAKE</td>\n",
       "    </tr>\n",
       "    <tr>\n",
       "      <th>6330</th>\n",
       "      <td>4490</td>\n",
       "      <td>State Department says it can't find emails fro...</td>\n",
       "      <td>The State Department told the Republican Natio...</td>\n",
       "      <td>REAL</td>\n",
       "    </tr>\n",
       "    <tr>\n",
       "      <th>6331</th>\n",
       "      <td>8062</td>\n",
       "      <td>The ‘P’ in PBS Should Stand for ‘Plutocratic’ ...</td>\n",
       "      <td>The ‘P’ in PBS Should Stand for ‘Plutocratic’ ...</td>\n",
       "      <td>FAKE</td>\n",
       "    </tr>\n",
       "    <tr>\n",
       "      <th>6332</th>\n",
       "      <td>8622</td>\n",
       "      <td>Anti-Trump Protesters Are Tools of the Oligarc...</td>\n",
       "      <td>Anti-Trump Protesters Are Tools of the Oligar...</td>\n",
       "      <td>FAKE</td>\n",
       "    </tr>\n",
       "    <tr>\n",
       "      <th>6333</th>\n",
       "      <td>4021</td>\n",
       "      <td>In Ethiopia, Obama seeks progress on peace, se...</td>\n",
       "      <td>ADDIS ABABA, Ethiopia —President Obama convene...</td>\n",
       "      <td>REAL</td>\n",
       "    </tr>\n",
       "    <tr>\n",
       "      <th>6334</th>\n",
       "      <td>4330</td>\n",
       "      <td>Jeb Bush Is Suddenly Attacking Trump. Here's W...</td>\n",
       "      <td>Jeb Bush Is Suddenly Attacking Trump. Here's W...</td>\n",
       "      <td>REAL</td>\n",
       "    </tr>\n",
       "  </tbody>\n",
       "</table>\n",
       "</div>"
      ],
      "text/plain": [
       "      Unnamed: 0                                              title  \\\n",
       "6325        8411  Will the Media Reset After the Election or Are...   \n",
       "6326        6143  DOJ COMPLAINT: Comey Under Fire Over Partisan ...   \n",
       "6327        3262  GOP Senator David Perdue Jokes About Praying f...   \n",
       "6328        9337  Radio Derb Is On The Air–Leonardo And Brazil’s...   \n",
       "6329        8737  Assange claims ‘crazed’ Clinton campaign tried...   \n",
       "6330        4490  State Department says it can't find emails fro...   \n",
       "6331        8062  The ‘P’ in PBS Should Stand for ‘Plutocratic’ ...   \n",
       "6332        8622  Anti-Trump Protesters Are Tools of the Oligarc...   \n",
       "6333        4021  In Ethiopia, Obama seeks progress on peace, se...   \n",
       "6334        4330  Jeb Bush Is Suddenly Attacking Trump. Here's W...   \n",
       "\n",
       "                                                   text label  \n",
       "6325  Written by Peter Van Buren   venerable New Yor...  FAKE  \n",
       "6326  DOJ COMPLAINT: Comey Under Fire Over Partisan ...  FAKE  \n",
       "6327  The freshman senator from Georgia quoted scrip...  REAL  \n",
       "6328                                                     FAKE  \n",
       "6329  Julian Assange has claimed the Hillary Clinton...  FAKE  \n",
       "6330  The State Department told the Republican Natio...  REAL  \n",
       "6331  The ‘P’ in PBS Should Stand for ‘Plutocratic’ ...  FAKE  \n",
       "6332   Anti-Trump Protesters Are Tools of the Oligar...  FAKE  \n",
       "6333  ADDIS ABABA, Ethiopia —President Obama convene...  REAL  \n",
       "6334  Jeb Bush Is Suddenly Attacking Trump. Here's W...  REAL  "
      ]
     },
     "execution_count": 5,
     "metadata": {},
     "output_type": "execute_result"
    }
   ],
   "source": [
    "df.tail(10)"
   ]
  },
  {
   "cell_type": "markdown",
   "metadata": {},
   "source": [
    "** Since unique id for each record, with all REAL rows assigned id values less than 5276 and all FAKE rows assigned values above 5276.  Of course, this data does not pertain in any way to the problem and needs to be removed from the analysis.**"
   ]
  },
  {
   "cell_type": "code",
   "execution_count": 6,
   "metadata": {},
   "outputs": [
    {
     "data": {
      "text/html": [
       "<div>\n",
       "<style scoped>\n",
       "    .dataframe tbody tr th:only-of-type {\n",
       "        vertical-align: middle;\n",
       "    }\n",
       "\n",
       "    .dataframe tbody tr th {\n",
       "        vertical-align: top;\n",
       "    }\n",
       "\n",
       "    .dataframe thead th {\n",
       "        text-align: right;\n",
       "    }\n",
       "</style>\n",
       "<table border=\"1\" class=\"dataframe\">\n",
       "  <thead>\n",
       "    <tr style=\"text-align: right;\">\n",
       "      <th></th>\n",
       "      <th>Unnamed: 0</th>\n",
       "      <th>title</th>\n",
       "      <th>text</th>\n",
       "      <th>label</th>\n",
       "    </tr>\n",
       "  </thead>\n",
       "  <tbody>\n",
       "    <tr>\n",
       "      <th>5603</th>\n",
       "      <td>2</td>\n",
       "      <td>Study: women had to drive 4 times farther afte...</td>\n",
       "      <td>Ever since Texas laws closed about half of the...</td>\n",
       "      <td>REAL</td>\n",
       "    </tr>\n",
       "    <tr>\n",
       "      <th>565</th>\n",
       "      <td>3</td>\n",
       "      <td>Trump, Clinton clash in dueling DC speeches</td>\n",
       "      <td>Donald Trump and Hillary Clinton, now at the s...</td>\n",
       "      <td>REAL</td>\n",
       "    </tr>\n",
       "    <tr>\n",
       "      <th>2099</th>\n",
       "      <td>5</td>\n",
       "      <td>As Reproductive Rights Hang In The Balance, De...</td>\n",
       "      <td>WASHINGTON -- Forty-three years after the Supr...</td>\n",
       "      <td>REAL</td>\n",
       "    </tr>\n",
       "    <tr>\n",
       "      <th>2197</th>\n",
       "      <td>6</td>\n",
       "      <td>Despite Constant Debate, Americans' Abortion O...</td>\n",
       "      <td>It's been a big week for abortion news.\\n\\nCar...</td>\n",
       "      <td>REAL</td>\n",
       "    </tr>\n",
       "    <tr>\n",
       "      <th>5974</th>\n",
       "      <td>7</td>\n",
       "      <td>Obama Argues Against Goverment Shutdown Over P...</td>\n",
       "      <td>President Barack Obama said Saturday night tha...</td>\n",
       "      <td>REAL</td>\n",
       "    </tr>\n",
       "    <tr>\n",
       "      <th>...</th>\n",
       "      <td>...</td>\n",
       "      <td>...</td>\n",
       "      <td>...</td>\n",
       "      <td>...</td>\n",
       "    </tr>\n",
       "    <tr>\n",
       "      <th>1213</th>\n",
       "      <td>10549</td>\n",
       "      <td>French Political Leader: “France is about to E...</td>\n",
       "      <td>Posted on October 31, 2016 by Theodore Shoebat...</td>\n",
       "      <td>FAKE</td>\n",
       "    </tr>\n",
       "    <tr>\n",
       "      <th>4863</th>\n",
       "      <td>10551</td>\n",
       "      <td>Man with unfashionable front door feared by ne...</td>\n",
       "      <td>Man with unfashionable front door feared by ne...</td>\n",
       "      <td>FAKE</td>\n",
       "    </tr>\n",
       "    <tr>\n",
       "      <th>5397</th>\n",
       "      <td>10553</td>\n",
       "      <td>Obamacare Architect on Rising Premiums: It’s N...</td>\n",
       "      <td>Washington Free Beacon October 26, 2016 \\nDr. ...</td>\n",
       "      <td>FAKE</td>\n",
       "    </tr>\n",
       "    <tr>\n",
       "      <th>208</th>\n",
       "      <td>10555</td>\n",
       "      <td>Clinton Vs. Trump: Latest Electoral Prediction...</td>\n",
       "      <td>(Before It's News)\\nIt is fun to look at polls...</td>\n",
       "      <td>FAKE</td>\n",
       "    </tr>\n",
       "    <tr>\n",
       "      <th>1021</th>\n",
       "      <td>10557</td>\n",
       "      <td>A List of Best Password Managers Offering Both...</td>\n",
       "      <td>You want to support Anonymous Independent &amp; In...</td>\n",
       "      <td>FAKE</td>\n",
       "    </tr>\n",
       "  </tbody>\n",
       "</table>\n",
       "<p>6335 rows × 4 columns</p>\n",
       "</div>"
      ],
      "text/plain": [
       "      Unnamed: 0                                              title  \\\n",
       "5603           2  Study: women had to drive 4 times farther afte...   \n",
       "565            3        Trump, Clinton clash in dueling DC speeches   \n",
       "2099           5  As Reproductive Rights Hang In The Balance, De...   \n",
       "2197           6  Despite Constant Debate, Americans' Abortion O...   \n",
       "5974           7  Obama Argues Against Goverment Shutdown Over P...   \n",
       "...          ...                                                ...   \n",
       "1213       10549  French Political Leader: “France is about to E...   \n",
       "4863       10551  Man with unfashionable front door feared by ne...   \n",
       "5397       10553  Obamacare Architect on Rising Premiums: It’s N...   \n",
       "208        10555  Clinton Vs. Trump: Latest Electoral Prediction...   \n",
       "1021       10557  A List of Best Password Managers Offering Both...   \n",
       "\n",
       "                                                   text label  \n",
       "5603  Ever since Texas laws closed about half of the...  REAL  \n",
       "565   Donald Trump and Hillary Clinton, now at the s...  REAL  \n",
       "2099  WASHINGTON -- Forty-three years after the Supr...  REAL  \n",
       "2197  It's been a big week for abortion news.\\n\\nCar...  REAL  \n",
       "5974  President Barack Obama said Saturday night tha...  REAL  \n",
       "...                                                 ...   ...  \n",
       "1213  Posted on October 31, 2016 by Theodore Shoebat...  FAKE  \n",
       "4863  Man with unfashionable front door feared by ne...  FAKE  \n",
       "5397  Washington Free Beacon October 26, 2016 \\nDr. ...  FAKE  \n",
       "208   (Before It's News)\\nIt is fun to look at polls...  FAKE  \n",
       "1021  You want to support Anonymous Independent & In...  FAKE  \n",
       "\n",
       "[6335 rows x 4 columns]"
      ]
     },
     "execution_count": 6,
     "metadata": {},
     "output_type": "execute_result"
    }
   ],
   "source": [
    "df.sort_values([df.columns[0]])"
   ]
  },
  {
   "cell_type": "code",
   "execution_count": 7,
   "metadata": {},
   "outputs": [
    {
     "data": {
      "text/html": [
       "<div>\n",
       "<style scoped>\n",
       "    .dataframe tbody tr th:only-of-type {\n",
       "        vertical-align: middle;\n",
       "    }\n",
       "\n",
       "    .dataframe tbody tr th {\n",
       "        vertical-align: top;\n",
       "    }\n",
       "\n",
       "    .dataframe thead th {\n",
       "        text-align: right;\n",
       "    }\n",
       "</style>\n",
       "<table border=\"1\" class=\"dataframe\">\n",
       "  <thead>\n",
       "    <tr style=\"text-align: right;\">\n",
       "      <th></th>\n",
       "      <th>id</th>\n",
       "      <th>title</th>\n",
       "      <th>text</th>\n",
       "      <th>label</th>\n",
       "    </tr>\n",
       "  </thead>\n",
       "  <tbody>\n",
       "    <tr>\n",
       "      <th>0</th>\n",
       "      <td>8476</td>\n",
       "      <td>You Can Smell Hillary’s Fear</td>\n",
       "      <td>Daniel Greenfield, a Shillman Journalism Fello...</td>\n",
       "      <td>FAKE</td>\n",
       "    </tr>\n",
       "    <tr>\n",
       "      <th>1</th>\n",
       "      <td>10294</td>\n",
       "      <td>Watch The Exact Moment Paul Ryan Committed Pol...</td>\n",
       "      <td>Google Pinterest Digg Linkedin Reddit Stumbleu...</td>\n",
       "      <td>FAKE</td>\n",
       "    </tr>\n",
       "    <tr>\n",
       "      <th>2</th>\n",
       "      <td>3608</td>\n",
       "      <td>Kerry to go to Paris in gesture of sympathy</td>\n",
       "      <td>U.S. Secretary of State John F. Kerry said Mon...</td>\n",
       "      <td>REAL</td>\n",
       "    </tr>\n",
       "    <tr>\n",
       "      <th>3</th>\n",
       "      <td>10142</td>\n",
       "      <td>Bernie supporters on Twitter erupt in anger ag...</td>\n",
       "      <td>— Kaydee King (@KaydeeKing) November 9, 2016 T...</td>\n",
       "      <td>FAKE</td>\n",
       "    </tr>\n",
       "    <tr>\n",
       "      <th>4</th>\n",
       "      <td>875</td>\n",
       "      <td>The Battle of New York: Why This Primary Matters</td>\n",
       "      <td>It's primary day in New York and front-runners...</td>\n",
       "      <td>REAL</td>\n",
       "    </tr>\n",
       "  </tbody>\n",
       "</table>\n",
       "</div>"
      ],
      "text/plain": [
       "      id                                              title  \\\n",
       "0   8476                       You Can Smell Hillary’s Fear   \n",
       "1  10294  Watch The Exact Moment Paul Ryan Committed Pol...   \n",
       "2   3608        Kerry to go to Paris in gesture of sympathy   \n",
       "3  10142  Bernie supporters on Twitter erupt in anger ag...   \n",
       "4    875   The Battle of New York: Why This Primary Matters   \n",
       "\n",
       "                                                text label  \n",
       "0  Daniel Greenfield, a Shillman Journalism Fello...  FAKE  \n",
       "1  Google Pinterest Digg Linkedin Reddit Stumbleu...  FAKE  \n",
       "2  U.S. Secretary of State John F. Kerry said Mon...  REAL  \n",
       "3  — Kaydee King (@KaydeeKing) November 9, 2016 T...  FAKE  \n",
       "4  It's primary day in New York and front-runners...  REAL  "
      ]
     },
     "execution_count": 7,
     "metadata": {},
     "output_type": "execute_result"
    }
   ],
   "source": [
    "cols = df.columns.tolist()\n",
    "cols[0] = 'id'\n",
    "df.columns = cols\n",
    "df.head()"
   ]
  },
  {
   "cell_type": "markdown",
   "metadata": {},
   "source": [
    "### While the dataframe does not have any Null values, with text data it is a good idea to check at a high level and see if any the contents of the Text and Title column carry emptry strings.\n",
    "- The Title field only appears to contain one row with a 'missing' title as shown by the single row with a string length of 1.  The next shortest is a single 5"
   ]
  },
  {
   "cell_type": "code",
   "execution_count": 8,
   "metadata": {},
   "outputs": [
    {
     "data": {
      "text/plain": [
       "1      1\n",
       "5      1\n",
       "8      2\n",
       "9      4\n",
       "10     2\n",
       "      ..\n",
       "221    1\n",
       "229    2\n",
       "231    1\n",
       "269    1\n",
       "289    1\n",
       "Name: title, Length: 168, dtype: int64"
      ]
     },
     "execution_count": 8,
     "metadata": {},
     "output_type": "execute_result"
    }
   ],
   "source": [
    "df['title'].apply(lambda x: len(x)).value_counts().sort_index()"
   ]
  },
  {
   "cell_type": "code",
   "execution_count": 9,
   "metadata": {},
   "outputs": [
    {
     "data": {
      "text/plain": [
       "3456    :\n",
       "Name: title, dtype: object"
      ]
     },
     "execution_count": 9,
     "metadata": {},
     "output_type": "execute_result"
    }
   ],
   "source": [
    "df.loc[df['title'].apply(lambda x: len(x) == 1),'title']"
   ]
  },
  {
   "cell_type": "code",
   "execution_count": 10,
   "metadata": {},
   "outputs": [
    {
     "data": {
      "text/plain": [
       "2417    White\n",
       "Name: title, dtype: object"
      ]
     },
     "execution_count": 10,
     "metadata": {},
     "output_type": "execute_result"
    }
   ],
   "source": [
    "df.loc[df['title'].apply(lambda x: len(x) == 5),'title']"
   ]
  },
  {
   "cell_type": "markdown",
   "metadata": {},
   "source": [
    "### There are a few dozen rows in the Text column which  appear to contain only empty string values.  \n",
    "- The next shortest length, as 12 characters long."
   ]
  },
  {
   "cell_type": "code",
   "execution_count": 11,
   "metadata": {},
   "outputs": [
    {
     "data": {
      "text/plain": [
       "1         36\n",
       "12         1\n",
       "13         1\n",
       "17         1\n",
       "34         1\n",
       "          ..\n",
       "56795      1\n",
       "68208      1\n",
       "92561      1\n",
       "99355      1\n",
       "115372     1\n",
       "Name: text, Length: 4562, dtype: int64"
      ]
     },
     "execution_count": 11,
     "metadata": {},
     "output_type": "execute_result"
    }
   ],
   "source": [
    "# It appears that 36 of the artilces do not have any text as shown by this value count on string length\n",
    "df['text'].apply(lambda x: len(x)).value_counts().sort_index()"
   ]
  },
  {
   "cell_type": "markdown",
   "metadata": {},
   "source": [
    "### Inspecting these that rows only have empty strings for the text contents, we see that they are all FAKE articles.  There are a few options for handling this missing data.  \n",
    "1. Leave the missing information as is\n",
    "2. Impute the TITLE values for the text values.\n",
    "3. Remove these rows from the data set.\n",
    "\n",
    "At this point, it is too early to say which is the 'best' option.  The best answer depends on a few things: \n",
    "    <li> **a)** which scenario will most represent the real-world, out of sample articles the model will be classifying and </li>\n",
    "    <li> **b)** which column features we end up using to build our final model </li> <br>\n",
    "    Given this situation, I will use the second option and impute the missing text data with the title data"
   ]
  },
  {
   "cell_type": "code",
   "execution_count": 12,
   "metadata": {},
   "outputs": [
    {
     "data": {
      "text/html": [
       "<div>\n",
       "<style scoped>\n",
       "    .dataframe tbody tr th:only-of-type {\n",
       "        vertical-align: middle;\n",
       "    }\n",
       "\n",
       "    .dataframe tbody tr th {\n",
       "        vertical-align: top;\n",
       "    }\n",
       "\n",
       "    .dataframe thead th {\n",
       "        text-align: right;\n",
       "    }\n",
       "</style>\n",
       "<table border=\"1\" class=\"dataframe\">\n",
       "  <thead>\n",
       "    <tr style=\"text-align: right;\">\n",
       "      <th></th>\n",
       "      <th>id</th>\n",
       "      <th>title</th>\n",
       "      <th>text</th>\n",
       "      <th>label</th>\n",
       "    </tr>\n",
       "  </thead>\n",
       "  <tbody>\n",
       "    <tr>\n",
       "      <th>106</th>\n",
       "      <td>5530</td>\n",
       "      <td>The Arcturian Group by Marilyn Raffaele Octobe...</td>\n",
       "      <td></td>\n",
       "      <td>FAKE</td>\n",
       "    </tr>\n",
       "    <tr>\n",
       "      <th>710</th>\n",
       "      <td>8332</td>\n",
       "      <td>MARKETWATCH LEFTIST: MSM’s “Blatant” Anti Trum...</td>\n",
       "      <td></td>\n",
       "      <td>FAKE</td>\n",
       "    </tr>\n",
       "    <tr>\n",
       "      <th>806</th>\n",
       "      <td>9314</td>\n",
       "      <td>Southern Poverty Law Center Targets Anti-Jihad...</td>\n",
       "      <td></td>\n",
       "      <td>FAKE</td>\n",
       "    </tr>\n",
       "    <tr>\n",
       "      <th>919</th>\n",
       "      <td>10304</td>\n",
       "      <td>Refugee Resettlement Watch: Swept Away In Nort...</td>\n",
       "      <td></td>\n",
       "      <td>FAKE</td>\n",
       "    </tr>\n",
       "    <tr>\n",
       "      <th>940</th>\n",
       "      <td>9474</td>\n",
       "      <td>Michael Bloomberg Names Technological Unemploy...</td>\n",
       "      <td></td>\n",
       "      <td>FAKE</td>\n",
       "    </tr>\n",
       "    <tr>\n",
       "      <th>1664</th>\n",
       "      <td>5802</td>\n",
       "      <td>Alert News : Putins Army Is Coming For World W...</td>\n",
       "      <td></td>\n",
       "      <td>FAKE</td>\n",
       "    </tr>\n",
       "    <tr>\n",
       "      <th>1736</th>\n",
       "      <td>9564</td>\n",
       "      <td>An LDS Reader Takes A Look At Trump Accuser Je...</td>\n",
       "      <td></td>\n",
       "      <td>FAKE</td>\n",
       "    </tr>\n",
       "    <tr>\n",
       "      <th>1851</th>\n",
       "      <td>5752</td>\n",
       "      <td>America’s Senator Jeff Sessions Warns of Worse...</td>\n",
       "      <td></td>\n",
       "      <td>FAKE</td>\n",
       "    </tr>\n",
       "    <tr>\n",
       "      <th>1883</th>\n",
       "      <td>8816</td>\n",
       "      <td>Paris Migrant Campers Increase after Calais Is...</td>\n",
       "      <td></td>\n",
       "      <td>FAKE</td>\n",
       "    </tr>\n",
       "    <tr>\n",
       "      <th>1941</th>\n",
       "      <td>7525</td>\n",
       "      <td>Putins Army is coming for World war 3 against ...</td>\n",
       "      <td></td>\n",
       "      <td>FAKE</td>\n",
       "    </tr>\n",
       "    <tr>\n",
       "      <th>2244</th>\n",
       "      <td>6714</td>\n",
       "      <td>Is your promising internet career over now Vin...</td>\n",
       "      <td></td>\n",
       "      <td>FAKE</td>\n",
       "    </tr>\n",
       "    <tr>\n",
       "      <th>2426</th>\n",
       "      <td>5776</td>\n",
       "      <td>Radio Derb Transcript For October 21 Up: The M...</td>\n",
       "      <td></td>\n",
       "      <td>FAKE</td>\n",
       "    </tr>\n",
       "    <tr>\n",
       "      <th>2576</th>\n",
       "      <td>8055</td>\n",
       "      <td>A Reader Refers Us To Englishman Pat Condell O...</td>\n",
       "      <td></td>\n",
       "      <td>FAKE</td>\n",
       "    </tr>\n",
       "    <tr>\n",
       "      <th>2662</th>\n",
       "      <td>10193</td>\n",
       "      <td>“Donald Trump And The Rise Of White Identity I...</td>\n",
       "      <td></td>\n",
       "      <td>FAKE</td>\n",
       "    </tr>\n",
       "    <tr>\n",
       "      <th>2788</th>\n",
       "      <td>5715</td>\n",
       "      <td>Hope for the best, prepare for the worst…</td>\n",
       "      <td></td>\n",
       "      <td>FAKE</td>\n",
       "    </tr>\n",
       "    <tr>\n",
       "      <th>2832</th>\n",
       "      <td>6733</td>\n",
       "      <td>The Comey Confrontation: In Our New Third-Worl...</td>\n",
       "      <td></td>\n",
       "      <td>FAKE</td>\n",
       "    </tr>\n",
       "    <tr>\n",
       "      <th>3073</th>\n",
       "      <td>5367</td>\n",
       "      <td>NATIONAL REVIEW, Conservatism Inc., Plan To Ca...</td>\n",
       "      <td></td>\n",
       "      <td>FAKE</td>\n",
       "    </tr>\n",
       "    <tr>\n",
       "      <th>3350</th>\n",
       "      <td>5427</td>\n",
       "      <td>Thomas Frank Explores Whether Hillary Clinton ...</td>\n",
       "      <td></td>\n",
       "      <td>FAKE</td>\n",
       "    </tr>\n",
       "    <tr>\n",
       "      <th>3511</th>\n",
       "      <td>8240</td>\n",
       "      <td>Democrats Playing Class Card To Split the Whit...</td>\n",
       "      <td></td>\n",
       "      <td>FAKE</td>\n",
       "    </tr>\n",
       "    <tr>\n",
       "      <th>3641</th>\n",
       "      <td>7048</td>\n",
       "      <td>Comment software has been rolled back to old v...</td>\n",
       "      <td></td>\n",
       "      <td>FAKE</td>\n",
       "    </tr>\n",
       "    <tr>\n",
       "      <th>3642</th>\n",
       "      <td>9070</td>\n",
       "      <td>Round Up the Unusual Suspects: Moneyball Nerds...</td>\n",
       "      <td></td>\n",
       "      <td>FAKE</td>\n",
       "    </tr>\n",
       "    <tr>\n",
       "      <th>4014</th>\n",
       "      <td>10414</td>\n",
       "      <td>More on Trump’s Populism and How It Can Be Con...</td>\n",
       "      <td></td>\n",
       "      <td>FAKE</td>\n",
       "    </tr>\n",
       "    <tr>\n",
       "      <th>4142</th>\n",
       "      <td>6311</td>\n",
       "      <td>Radio Derb transcript for October 29th is up: ...</td>\n",
       "      <td></td>\n",
       "      <td>FAKE</td>\n",
       "    </tr>\n",
       "    <tr>\n",
       "      <th>4253</th>\n",
       "      <td>8601</td>\n",
       "      <td>Pro-sovereignty Legislators Demand That Admini...</td>\n",
       "      <td></td>\n",
       "      <td>FAKE</td>\n",
       "    </tr>\n",
       "    <tr>\n",
       "      <th>4713</th>\n",
       "      <td>8626</td>\n",
       "      <td>World War 3?</td>\n",
       "      <td></td>\n",
       "      <td>FAKE</td>\n",
       "    </tr>\n",
       "    <tr>\n",
       "      <th>4744</th>\n",
       "      <td>8548</td>\n",
       "      <td>A Mormon Reader Says Most Mormons Will Still B...</td>\n",
       "      <td></td>\n",
       "      <td>FAKE</td>\n",
       "    </tr>\n",
       "    <tr>\n",
       "      <th>5017</th>\n",
       "      <td>6254</td>\n",
       "      <td>Paris: Riot Police Flatten Invader Camp</td>\n",
       "      <td></td>\n",
       "      <td>FAKE</td>\n",
       "    </tr>\n",
       "    <tr>\n",
       "      <th>5088</th>\n",
       "      <td>8875</td>\n",
       "      <td>Huma Abedin’s Muslim Dad</td>\n",
       "      <td></td>\n",
       "      <td>FAKE</td>\n",
       "    </tr>\n",
       "    <tr>\n",
       "      <th>5213</th>\n",
       "      <td>9526</td>\n",
       "      <td>Hillary is Sick &amp; Tired of Suffering from Wein...</td>\n",
       "      <td></td>\n",
       "      <td>FAKE</td>\n",
       "    </tr>\n",
       "    <tr>\n",
       "      <th>5581</th>\n",
       "      <td>6800</td>\n",
       "      <td>Automation: Robots from Korea to America Are R...</td>\n",
       "      <td></td>\n",
       "      <td>FAKE</td>\n",
       "    </tr>\n",
       "    <tr>\n",
       "      <th>5639</th>\n",
       "      <td>6773</td>\n",
       "      <td>WORLD WAR 3 – HILLARY V.S. TRUMP</td>\n",
       "      <td></td>\n",
       "      <td>FAKE</td>\n",
       "    </tr>\n",
       "    <tr>\n",
       "      <th>5699</th>\n",
       "      <td>9467</td>\n",
       "      <td>A Fifth Clinton Presidency? Hill, No!</td>\n",
       "      <td></td>\n",
       "      <td>FAKE</td>\n",
       "    </tr>\n",
       "    <tr>\n",
       "      <th>5772</th>\n",
       "      <td>5324</td>\n",
       "      <td>Huma’s Weiner Dogs Hillary</td>\n",
       "      <td></td>\n",
       "      <td>FAKE</td>\n",
       "    </tr>\n",
       "    <tr>\n",
       "      <th>6064</th>\n",
       "      <td>6127</td>\n",
       "      <td>Radio Derb: Peak White Guilt, PC Now To The LE...</td>\n",
       "      <td></td>\n",
       "      <td>FAKE</td>\n",
       "    </tr>\n",
       "    <tr>\n",
       "      <th>6175</th>\n",
       "      <td>7043</td>\n",
       "      <td>Hillary’s High Crimes &amp; Misdemeanors Threaten ...</td>\n",
       "      <td></td>\n",
       "      <td>FAKE</td>\n",
       "    </tr>\n",
       "    <tr>\n",
       "      <th>6328</th>\n",
       "      <td>9337</td>\n",
       "      <td>Radio Derb Is On The Air–Leonardo And Brazil’s...</td>\n",
       "      <td></td>\n",
       "      <td>FAKE</td>\n",
       "    </tr>\n",
       "  </tbody>\n",
       "</table>\n",
       "</div>"
      ],
      "text/plain": [
       "         id                                              title text label\n",
       "106    5530  The Arcturian Group by Marilyn Raffaele Octobe...       FAKE\n",
       "710    8332  MARKETWATCH LEFTIST: MSM’s “Blatant” Anti Trum...       FAKE\n",
       "806    9314  Southern Poverty Law Center Targets Anti-Jihad...       FAKE\n",
       "919   10304  Refugee Resettlement Watch: Swept Away In Nort...       FAKE\n",
       "940    9474  Michael Bloomberg Names Technological Unemploy...       FAKE\n",
       "1664   5802  Alert News : Putins Army Is Coming For World W...       FAKE\n",
       "1736   9564  An LDS Reader Takes A Look At Trump Accuser Je...       FAKE\n",
       "1851   5752  America’s Senator Jeff Sessions Warns of Worse...       FAKE\n",
       "1883   8816  Paris Migrant Campers Increase after Calais Is...       FAKE\n",
       "1941   7525  Putins Army is coming for World war 3 against ...       FAKE\n",
       "2244   6714  Is your promising internet career over now Vin...       FAKE\n",
       "2426   5776  Radio Derb Transcript For October 21 Up: The M...       FAKE\n",
       "2576   8055  A Reader Refers Us To Englishman Pat Condell O...       FAKE\n",
       "2662  10193  “Donald Trump And The Rise Of White Identity I...       FAKE\n",
       "2788   5715          Hope for the best, prepare for the worst…       FAKE\n",
       "2832   6733  The Comey Confrontation: In Our New Third-Worl...       FAKE\n",
       "3073   5367  NATIONAL REVIEW, Conservatism Inc., Plan To Ca...       FAKE\n",
       "3350   5427  Thomas Frank Explores Whether Hillary Clinton ...       FAKE\n",
       "3511   8240  Democrats Playing Class Card To Split the Whit...       FAKE\n",
       "3641   7048  Comment software has been rolled back to old v...       FAKE\n",
       "3642   9070  Round Up the Unusual Suspects: Moneyball Nerds...       FAKE\n",
       "4014  10414  More on Trump’s Populism and How It Can Be Con...       FAKE\n",
       "4142   6311  Radio Derb transcript for October 29th is up: ...       FAKE\n",
       "4253   8601  Pro-sovereignty Legislators Demand That Admini...       FAKE\n",
       "4713   8626                                       World War 3?       FAKE\n",
       "4744   8548  A Mormon Reader Says Most Mormons Will Still B...       FAKE\n",
       "5017   6254            Paris: Riot Police Flatten Invader Camp       FAKE\n",
       "5088   8875                           Huma Abedin’s Muslim Dad       FAKE\n",
       "5213   9526  Hillary is Sick & Tired of Suffering from Wein...       FAKE\n",
       "5581   6800  Automation: Robots from Korea to America Are R...       FAKE\n",
       "5639   6773                   WORLD WAR 3 – HILLARY V.S. TRUMP       FAKE\n",
       "5699   9467              A Fifth Clinton Presidency? Hill, No!       FAKE\n",
       "5772   5324                         Huma’s Weiner Dogs Hillary       FAKE\n",
       "6064   6127  Radio Derb: Peak White Guilt, PC Now To The LE...       FAKE\n",
       "6175   7043  Hillary’s High Crimes & Misdemeanors Threaten ...       FAKE\n",
       "6328   9337  Radio Derb Is On The Air–Leonardo And Brazil’s...       FAKE"
      ]
     },
     "execution_count": 12,
     "metadata": {},
     "output_type": "execute_result"
    }
   ],
   "source": [
    "df.loc[df['text'].apply(lambda x: len(x) == 1), :]"
   ]
  },
  {
   "cell_type": "code",
   "execution_count": 13,
   "metadata": {},
   "outputs": [],
   "source": [
    "df.loc[df['text'].apply(lambda x: len(x) == 1), 'text'] = df.loc[df['text'].apply(lambda x: len(x) == 1), 'title']"
   ]
  },
  {
   "cell_type": "markdown",
   "metadata": {},
   "source": [
    "## Take a look at the data by Target type: FAKE vs REAL\n",
    "- Investigate y labels and any potential imbalance.\n",
    "- Value counts quickly shows the two categories are almost perfectly balanced.  "
   ]
  },
  {
   "cell_type": "code",
   "execution_count": 18,
   "metadata": {},
   "outputs": [
    {
     "data": {
      "text/plain": [
       "REAL    3171\n",
       "FAKE    3164\n",
       "Name: label, dtype: int64"
      ]
     },
     "execution_count": 18,
     "metadata": {},
     "output_type": "execute_result"
    }
   ],
   "source": [
    "df['label'].value_counts()"
   ]
  },
  {
   "cell_type": "markdown",
   "metadata": {},
   "source": [
    "## Review a random sample of the title column data \n",
    "- Explore for differences and see if we can get any intuition about the data abd what might differentiate  between REAL and FAKE article titles"
   ]
  },
  {
   "cell_type": "code",
   "execution_count": 14,
   "metadata": {},
   "outputs": [],
   "source": [
    "# Function to pivot y-label category entries: in this case for REAL and FAKE\n",
    "def juxtapose_categories(df,idx,cat_col,val_col):\n",
    "    options = df[cat_col].unique()\n",
    "    df_juxtapose = pd.DataFrame()\n",
    "    for opt in options:\n",
    "        t_df = df.pivot(index=idx,columns=cat_col,values=val_col)[[opt]].dropna().reset_index(drop=True)\n",
    "        df_juxtapose = pd.concat([df_juxtapose,t_df],axis=1)\n",
    "    return df_juxtapose"
   ]
  },
  {
   "cell_type": "code",
   "execution_count": 15,
   "metadata": {},
   "outputs": [
    {
     "data": {
      "text/html": [
       "<div>\n",
       "<style scoped>\n",
       "    .dataframe tbody tr th:only-of-type {\n",
       "        vertical-align: middle;\n",
       "    }\n",
       "\n",
       "    .dataframe tbody tr th {\n",
       "        vertical-align: top;\n",
       "    }\n",
       "\n",
       "    .dataframe thead th {\n",
       "        text-align: right;\n",
       "    }\n",
       "</style>\n",
       "<table border=\"1\" class=\"dataframe\">\n",
       "  <thead>\n",
       "    <tr style=\"text-align: right;\">\n",
       "      <th>label</th>\n",
       "      <th>FAKE</th>\n",
       "      <th>REAL</th>\n",
       "    </tr>\n",
       "  </thead>\n",
       "  <tbody>\n",
       "    <tr>\n",
       "      <th>2325</th>\n",
       "      <td>Comment on Sweden on the brink? Police force pushed to breaking point by violence amid migrant influx by Paul Blake</td>\n",
       "      <td>Angela Merkel to Visit White House on Feb. 9</td>\n",
       "    </tr>\n",
       "    <tr>\n",
       "      <th>3031</th>\n",
       "      <td>Putin: Russia Is Not Going To Attack Anyone</td>\n",
       "      <td>Historic firsts fill evening at Democratic National Convention</td>\n",
       "    </tr>\n",
       "    <tr>\n",
       "      <th>638</th>\n",
       "      <td>Arkansas Republicans Put The Word “Liar” In Hillary’s Name On Ballot</td>\n",
       "      <td>Bernie Sanders' big day</td>\n",
       "    </tr>\n",
       "    <tr>\n",
       "      <th>2039</th>\n",
       "      <td>World wildlife ‘falls by 58% in 40 years’</td>\n",
       "      <td>Scalia lies in repose at Supreme Court</td>\n",
       "    </tr>\n",
       "    <tr>\n",
       "      <th>1490</th>\n",
       "      <td>Trump: A people’s ‘new world order’ taking shape?</td>\n",
       "      <td>Seeking Refuge: Five lessons from Europe's migration crisis</td>\n",
       "    </tr>\n",
       "    <tr>\n",
       "      <th>2899</th>\n",
       "      <td>PIERS MORGAN: “Get Off Your High Horse, Hillary. Only ONE Candidate is Up To Her Neck in FBI Probes and Her Name Isn’t Donald” – TruthFeed</td>\n",
       "      <td>Trump doctor’s letter: He takes cholesterol drug, is overweight but is in ‘excellent’ health</td>\n",
       "    </tr>\n",
       "    <tr>\n",
       "      <th>1262</th>\n",
       "      <td>President Trump! A nightmare of the Ukrainian politicians! (English subs)</td>\n",
       "      <td>How America is quietly becoming a climate change leader</td>\n",
       "    </tr>\n",
       "    <tr>\n",
       "      <th>1232</th>\n",
       "      <td>Is Trump winning? The future of America depends on a few states</td>\n",
       "      <td>DR. MANNY: Water crisis in Flint is just the tip of the iceberg</td>\n",
       "    </tr>\n",
       "    <tr>\n",
       "      <th>1364</th>\n",
       "      <td>Dr. Duke and Dr. MacDonald Call for Prosecution of Hillary for Treasonous Support of ISIS.</td>\n",
       "      <td>Meet The Couples Fighting To Make Marriage Equality The Law Of The Land</td>\n",
       "    </tr>\n",
       "    <tr>\n",
       "      <th>1271</th>\n",
       "      <td>The Loosening Grip</td>\n",
       "      <td>Earth had warmest winter on record</td>\n",
       "    </tr>\n",
       "  </tbody>\n",
       "</table>\n",
       "</div>"
      ],
      "text/plain": [
       "label                                                                                                                                        FAKE  \\\n",
       "2325   Comment on Sweden on the brink? Police force pushed to breaking point by violence amid migrant influx by Paul Blake                          \n",
       "3031   Putin: Russia Is Not Going To Attack Anyone                                                                                                  \n",
       "638    Arkansas Republicans Put The Word “Liar” In Hillary’s Name On Ballot                                                                         \n",
       "2039   World wildlife ‘falls by 58% in 40 years’                                                                                                    \n",
       "1490   Trump: A people’s ‘new world order’ taking shape?                                                                                            \n",
       "2899   PIERS MORGAN: “Get Off Your High Horse, Hillary. Only ONE Candidate is Up To Her Neck in FBI Probes and Her Name Isn’t Donald” – TruthFeed   \n",
       "1262   President Trump! A nightmare of the Ukrainian politicians! (English subs)                                                                    \n",
       "1232   Is Trump winning? The future of America depends on a few states                                                                              \n",
       "1364   Dr. Duke and Dr. MacDonald Call for Prosecution of Hillary for Treasonous Support of ISIS.                                                   \n",
       "1271   The Loosening Grip                                                                                                                           \n",
       "\n",
       "label                                                                                          REAL  \n",
       "2325   Angela Merkel to Visit White House on Feb. 9                                                  \n",
       "3031   Historic firsts fill evening at Democratic National Convention                                \n",
       "638    Bernie Sanders' big day                                                                       \n",
       "2039   Scalia lies in repose at Supreme Court                                                        \n",
       "1490   Seeking Refuge: Five lessons from Europe's migration crisis                                   \n",
       "2899   Trump doctor’s letter: He takes cholesterol drug, is overweight but is in ‘excellent’ health  \n",
       "1262   How America is quietly becoming a climate change leader                                       \n",
       "1232   DR. MANNY: Water crisis in Flint is just the tip of the iceberg                               \n",
       "1364   Meet The Couples Fighting To Make Marriage Equality The Law Of The Land                       \n",
       "1271   Earth had warmest winter on record                                                            "
      ]
     },
     "execution_count": 15,
     "metadata": {},
     "output_type": "execute_result"
    }
   ],
   "source": [
    "# Set display width so that entire text for each label is visible\n",
    "pd.set_option('display.max_colwidth', -1) \n",
    "sample_size = 10\n",
    "juxtapose_categories(df,'id',y_col,'title').sample(sample_size,random_state=7)"
   ]
  },
  {
   "cell_type": "markdown",
   "metadata": {},
   "source": [
    "# Now, let's take a look at a few random samples of the Text contents too\n",
    "- Since these are much larger, I'll only grab a row at a time and check 10 of these.\n",
    "- Looking at this small handful, it is hard to get develop any intuitive insight like we did with the Title column. "
   ]
  },
  {
   "cell_type": "code",
   "execution_count": 17,
   "metadata": {
    "scrolled": false
   },
   "outputs": [
    {
     "data": {
      "text/html": [
       "<div>\n",
       "<style scoped>\n",
       "    .dataframe tbody tr th:only-of-type {\n",
       "        vertical-align: middle;\n",
       "    }\n",
       "\n",
       "    .dataframe tbody tr th {\n",
       "        vertical-align: top;\n",
       "    }\n",
       "\n",
       "    .dataframe thead th {\n",
       "        text-align: right;\n",
       "    }\n",
       "</style>\n",
       "<table border=\"1\" class=\"dataframe\">\n",
       "  <thead>\n",
       "    <tr style=\"text-align: right;\">\n",
       "      <th>label</th>\n",
       "      <th>FAKE</th>\n",
       "      <th>REAL</th>\n",
       "    </tr>\n",
       "  </thead>\n",
       "  <tbody>\n",
       "    <tr>\n",
       "      <th>2325</th>\n",
       "      <td>DCG | 5 Comments \\nAin’t multiculturalism grand? \\nFrom Daily Express : The Scandinavian country is facing an existential crisis with on average three police officers handing in their resignations a day. If the alarming trend continues, and police officers continue to resign more than 1,000 officers will have quit the service by New Years. \\nSince the migrant crisis began last summer, Sweden has been hit by a series of brutal crimes and violent incidents . In 2015 alone Sweden, with a population of 9.5million, received over 160,000 asylum applications and the country is expected to take as many as 190,000 refugees, or two per cent of the population, by the end of 2016. \\nSince the Second World War Sweden has prided itself on helping migrants who cross their borders despite some moves to the political right in recent years. \\nBut police have now admitted the force has reached breaching point as more than 50 areas in the country have now been placed on a “no-go zone” list . \\nIn February a report from Sweden’s National Criminal Investigation Service announced there were 52 areas where officers would not cope with the levels of crime being committed . Sex assaults , drug dealing and children carrying weapons were just some of the incidents mentioned in the report. In September, Swedish officials were forced to add another three areas to the list. \\nNow the Police Association have said they need at least 200 new officers to regain control in the south-east of the country. \\nThomas Stjernfeldt, from the region’s police association, told SVT : “We are missing extremely many officers in the operational sector, right now we need 200 more officers to be added to the force to establish a reasonable working environment in the southeast of Götaland .” Götaland is one of the regions in the country that has been hit hard by the car fire attacks, which have been occurring throughout Sweden. \\nOn Monday, Express.co.uk reported a number of the arsonist attacks in the city of Växjö, in Götaland, had been committed by frustrated migrants . Currently there are more than 6,000 suspected crimes that are unsolved in the area and 400 of these cases are suspected to be rapes, murder or attempted murder. \\nMr. Stjernfeldt said the figures are alarming and police officers are constantly forced to work overtime in an attempt to solve the reported crimes. \\nThe Police Association admitted it fears the public will lose faith in the force and their ability to protect citizens if the situation is not resolved. \\nThe union’s call for more resources echoes National Police Commissioner Dan Eliasson’s February warning, where he said he needed a further 4,100 officers and specialist staff to reestablish law and order in Sweden. \\nDCG</td>\n",
       "      <td>President Barack Obama will play host to German Chancellor Angela Merkel in Washington, D.C. next week, the White House announced Monday.\\n\\nMs. Merkel will visit the White House on Feb. 9, where she and the president are expected to discuss issues like Russia, Ukraine, counterterrorism and the challenges in the broader Middle East. The two leaders will have an Oval Office meeting followed by a working lunch.</td>\n",
       "    </tr>\n",
       "  </tbody>\n",
       "</table>\n",
       "</div>"
      ],
      "text/plain": [
       "label                                                                                                                                                                                                                                                                                                                                                                                                                                                                                                                                                                                                                                                                                                                                                                                                                                                                                                                                                                                                                                                                                                                                                                                                                                                                                                                                                                                                                                                                                                                                                                                                                                                                                                                                                                                                                                                                                                                                                                                                                                                                                                                                                                                                                                                                                                                                                                                                                                                                                                                                                                                                                                                                                                                                                                                                                                                          FAKE  \\\n",
       "2325     DCG | 5 Comments \\nAin’t multiculturalism grand? \\nFrom Daily Express : The Scandinavian country is facing an existential crisis with on average three police officers handing in their resignations a day. If the alarming trend continues, and police officers continue to resign more than 1,000 officers will have quit the service by New Years. \\nSince the migrant crisis began last summer, Sweden has been hit by a series of brutal crimes and violent incidents . In 2015 alone Sweden, with a population of 9.5million, received over 160,000 asylum applications and the country is expected to take as many as 190,000 refugees, or two per cent of the population, by the end of 2016. \\nSince the Second World War Sweden has prided itself on helping migrants who cross their borders despite some moves to the political right in recent years. \\nBut police have now admitted the force has reached breaching point as more than 50 areas in the country have now been placed on a “no-go zone” list . \\nIn February a report from Sweden’s National Criminal Investigation Service announced there were 52 areas where officers would not cope with the levels of crime being committed . Sex assaults , drug dealing and children carrying weapons were just some of the incidents mentioned in the report. In September, Swedish officials were forced to add another three areas to the list. \\nNow the Police Association have said they need at least 200 new officers to regain control in the south-east of the country. \\nThomas Stjernfeldt, from the region’s police association, told SVT : “We are missing extremely many officers in the operational sector, right now we need 200 more officers to be added to the force to establish a reasonable working environment in the southeast of Götaland .” Götaland is one of the regions in the country that has been hit hard by the car fire attacks, which have been occurring throughout Sweden. \\nOn Monday, Express.co.uk reported a number of the arsonist attacks in the city of Växjö, in Götaland, had been committed by frustrated migrants . Currently there are more than 6,000 suspected crimes that are unsolved in the area and 400 of these cases are suspected to be rapes, murder or attempted murder. \\nMr. Stjernfeldt said the figures are alarming and police officers are constantly forced to work overtime in an attempt to solve the reported crimes. \\nThe Police Association admitted it fears the public will lose faith in the force and their ability to protect citizens if the situation is not resolved. \\nThe union’s call for more resources echoes National Police Commissioner Dan Eliasson’s February warning, where he said he needed a further 4,100 officers and specialist staff to reestablish law and order in Sweden. \\nDCG   \n",
       "\n",
       "label                                                                                                                                                                                                                                                                                                                                                                                                                          REAL  \n",
       "2325   President Barack Obama will play host to German Chancellor Angela Merkel in Washington, D.C. next week, the White House announced Monday.\\n\\nMs. Merkel will visit the White House on Feb. 9, where she and the president are expected to discuss issues like Russia, Ukraine, counterterrorism and the challenges in the broader Middle East. The two leaders will have an Oval Office meeting followed by a working lunch.  "
      ]
     },
     "execution_count": 17,
     "metadata": {},
     "output_type": "execute_result"
    }
   ],
   "source": [
    "# adjust column width so that entire text contents for a single row are visible.\n",
    "pd.set_option('display.max_colwidth', -1)\n",
    "sample_size = 1\n",
    "juxtapose_categories(df,'id',y_col,'text').sample(sample_size,random_state=7)"
   ]
  },
  {
   "cell_type": "code",
   "execution_count": 18,
   "metadata": {},
   "outputs": [],
   "source": [
    "# reset the display to default setting so that row contents of dataframe are truncated\n",
    "pd.reset_option('display')"
   ]
  },
  {
   "cell_type": "markdown",
   "metadata": {},
   "source": [
    "### Iterating through a few random samples of FAKE vs REAL records, one potential trend emerges: FAKE entries tend to have a higher number of UPPERCASE words in the Title (and potentially in the text as well).\n",
    "- Given this, it might be worth while to count of the number of uppercase words in the title could be one potential feature for use in a model later, so let's grab create a column with that information"
   ]
  },
  {
   "cell_type": "code",
   "execution_count": 19,
   "metadata": {},
   "outputs": [],
   "source": [
    "# Split the title string into a list and count the the number of upper case words in each\n",
    "df['TITLE_UPPER_CNT'] = df['title'].apply(lambda row: sum([1 for word in row.split() if word.isupper()]))\n",
    "df['TEXT_UPPER_CNT'] = df['text'].apply(lambda row: sum([1 for word in row.split() if word.isupper()]))"
   ]
  },
  {
   "cell_type": "code",
   "execution_count": 20,
   "metadata": {
    "scrolled": false
   },
   "outputs": [
    {
     "data": {
      "text/html": [
       "<div>\n",
       "<style scoped>\n",
       "    .dataframe tbody tr th:only-of-type {\n",
       "        vertical-align: middle;\n",
       "    }\n",
       "\n",
       "    .dataframe tbody tr th {\n",
       "        vertical-align: top;\n",
       "    }\n",
       "\n",
       "    .dataframe thead th {\n",
       "        text-align: right;\n",
       "    }\n",
       "</style>\n",
       "<table border=\"1\" class=\"dataframe\">\n",
       "  <thead>\n",
       "    <tr style=\"text-align: right;\">\n",
       "      <th></th>\n",
       "      <th>id</th>\n",
       "      <th>title</th>\n",
       "      <th>text</th>\n",
       "      <th>label</th>\n",
       "      <th>TITLE_UPPER_CNT</th>\n",
       "      <th>TEXT_UPPER_CNT</th>\n",
       "    </tr>\n",
       "  </thead>\n",
       "  <tbody>\n",
       "    <tr>\n",
       "      <th>0</th>\n",
       "      <td>8476</td>\n",
       "      <td>You Can Smell Hillary’s Fear</td>\n",
       "      <td>Daniel Greenfield, a Shillman Journalism Fello...</td>\n",
       "      <td>FAKE</td>\n",
       "      <td>0</td>\n",
       "      <td>38</td>\n",
       "    </tr>\n",
       "    <tr>\n",
       "      <th>1</th>\n",
       "      <td>10294</td>\n",
       "      <td>Watch The Exact Moment Paul Ryan Committed Pol...</td>\n",
       "      <td>Google Pinterest Digg Linkedin Reddit Stumbleu...</td>\n",
       "      <td>FAKE</td>\n",
       "      <td>2</td>\n",
       "      <td>3</td>\n",
       "    </tr>\n",
       "    <tr>\n",
       "      <th>2</th>\n",
       "      <td>3608</td>\n",
       "      <td>Kerry to go to Paris in gesture of sympathy</td>\n",
       "      <td>U.S. Secretary of State John F. Kerry said Mon...</td>\n",
       "      <td>REAL</td>\n",
       "      <td>0</td>\n",
       "      <td>6</td>\n",
       "    </tr>\n",
       "    <tr>\n",
       "      <th>3</th>\n",
       "      <td>10142</td>\n",
       "      <td>Bernie supporters on Twitter erupt in anger ag...</td>\n",
       "      <td>— Kaydee King (@KaydeeKing) November 9, 2016 T...</td>\n",
       "      <td>FAKE</td>\n",
       "      <td>1</td>\n",
       "      <td>5</td>\n",
       "    </tr>\n",
       "    <tr>\n",
       "      <th>4</th>\n",
       "      <td>875</td>\n",
       "      <td>The Battle of New York: Why This Primary Matters</td>\n",
       "      <td>It's primary day in New York and front-runners...</td>\n",
       "      <td>REAL</td>\n",
       "      <td>0</td>\n",
       "      <td>3</td>\n",
       "    </tr>\n",
       "  </tbody>\n",
       "</table>\n",
       "</div>"
      ],
      "text/plain": [
       "      id                                              title  \\\n",
       "0   8476                       You Can Smell Hillary’s Fear   \n",
       "1  10294  Watch The Exact Moment Paul Ryan Committed Pol...   \n",
       "2   3608        Kerry to go to Paris in gesture of sympathy   \n",
       "3  10142  Bernie supporters on Twitter erupt in anger ag...   \n",
       "4    875   The Battle of New York: Why This Primary Matters   \n",
       "\n",
       "                                                text label  TITLE_UPPER_CNT  \\\n",
       "0  Daniel Greenfield, a Shillman Journalism Fello...  FAKE                0   \n",
       "1  Google Pinterest Digg Linkedin Reddit Stumbleu...  FAKE                2   \n",
       "2  U.S. Secretary of State John F. Kerry said Mon...  REAL                0   \n",
       "3  — Kaydee King (@KaydeeKing) November 9, 2016 T...  FAKE                1   \n",
       "4  It's primary day in New York and front-runners...  REAL                0   \n",
       "\n",
       "   TEXT_UPPER_CNT  \n",
       "0              38  \n",
       "1               3  \n",
       "2               6  \n",
       "3               5  \n",
       "4               3  "
      ]
     },
     "execution_count": 20,
     "metadata": {},
     "output_type": "execute_result"
    }
   ],
   "source": [
    "df.head()"
   ]
  },
  {
   "cell_type": "markdown",
   "metadata": {},
   "source": [
    "### Count of uppercase words distribution.\n",
    "- Looking at the quartile breakdown of the Distribution of count of uppercase words in the the Title column, we see  there could be a divergence starting somewhere in the 3rd or 4th quartile, but it's difficult to tell from this view alone."
   ]
  },
  {
   "cell_type": "code",
   "execution_count": 21,
   "metadata": {},
   "outputs": [
    {
     "data": {
      "text/html": [
       "<div>\n",
       "<style scoped>\n",
       "    .dataframe tbody tr th:only-of-type {\n",
       "        vertical-align: middle;\n",
       "    }\n",
       "\n",
       "    .dataframe tbody tr th {\n",
       "        vertical-align: top;\n",
       "    }\n",
       "\n",
       "    .dataframe thead th {\n",
       "        text-align: right;\n",
       "    }\n",
       "</style>\n",
       "<table border=\"1\" class=\"dataframe\">\n",
       "  <thead>\n",
       "    <tr style=\"text-align: right;\">\n",
       "      <th></th>\n",
       "      <th>count</th>\n",
       "      <th>mean</th>\n",
       "      <th>std</th>\n",
       "      <th>min</th>\n",
       "      <th>25%</th>\n",
       "      <th>50%</th>\n",
       "      <th>75%</th>\n",
       "      <th>max</th>\n",
       "    </tr>\n",
       "    <tr>\n",
       "      <th>label</th>\n",
       "      <th></th>\n",
       "      <th></th>\n",
       "      <th></th>\n",
       "      <th></th>\n",
       "      <th></th>\n",
       "      <th></th>\n",
       "      <th></th>\n",
       "      <th></th>\n",
       "    </tr>\n",
       "  </thead>\n",
       "  <tbody>\n",
       "    <tr>\n",
       "      <th>FAKE</th>\n",
       "      <td>3164.0</td>\n",
       "      <td>0.731669</td>\n",
       "      <td>1.717771</td>\n",
       "      <td>0.0</td>\n",
       "      <td>0.0</td>\n",
       "      <td>0.0</td>\n",
       "      <td>1.0</td>\n",
       "      <td>17.0</td>\n",
       "    </tr>\n",
       "    <tr>\n",
       "      <th>REAL</th>\n",
       "      <td>3171.0</td>\n",
       "      <td>0.246295</td>\n",
       "      <td>0.494335</td>\n",
       "      <td>0.0</td>\n",
       "      <td>0.0</td>\n",
       "      <td>0.0</td>\n",
       "      <td>0.0</td>\n",
       "      <td>5.0</td>\n",
       "    </tr>\n",
       "  </tbody>\n",
       "</table>\n",
       "</div>"
      ],
      "text/plain": [
       "        count      mean       std  min  25%  50%  75%   max\n",
       "label                                                      \n",
       "FAKE   3164.0  0.731669  1.717771  0.0  0.0  0.0  1.0  17.0\n",
       "REAL   3171.0  0.246295  0.494335  0.0  0.0  0.0  0.0   5.0"
      ]
     },
     "execution_count": 21,
     "metadata": {},
     "output_type": "execute_result"
    }
   ],
   "source": [
    "df.groupby('label')['TITLE_UPPER_CNT'].describe()"
   ]
  },
  {
   "cell_type": "markdown",
   "metadata": {},
   "source": [
    "### Take a closer look at the distribution and visualize it in more detail \n",
    "- To get a better sense, let's look at how many Titles contain up to 5 uppercase words\n",
    "- It appears that there are in fact more uppercase words in FAKE titles compared to the REAL, but is this difference 'significant'.\n",
    "- Let's store the distribution of each in the *'t_distro'* dictionary variable"
   ]
  },
  {
   "cell_type": "code",
   "execution_count": 23,
   "metadata": {
    "scrolled": true
   },
   "outputs": [
    {
     "name": "stdout",
     "output_type": "stream",
     "text": [
      "FAKE News Titles: 37% Contain at least 1 Upper Case Word.\n",
      "FAKE News Titles: 12% Contain at least 2 Upper Case Word.\n",
      "FAKE News Titles: 5% Contain at least 3 Upper Case Word.\n",
      "FAKE News Titles: 3% Contain at least 4 Upper Case Word.\n",
      "FAKE News Titles: 2% Contain at least 5 Upper Case Word.\n",
      "\n",
      "REAL News Titles: 22% Contain at least 1 Upper Case Word.\n",
      "REAL News Titles: 2% Contain at least 2 Upper Case Word.\n",
      "REAL News Titles: 0% Contain at least 3 Upper Case Word.\n",
      "REAL News Titles: 0% Contain at least 4 Upper Case Word.\n",
      "REAL News Titles: 0% Contain at least 5 Upper Case Word.\n",
      "\n"
     ]
    }
   ],
   "source": [
    "# number of words to check fo \n",
    "word_cnt = 5\n",
    "# dictionary to hold the distribution of count of upper case words in REAL vs FAKE titles\n",
    "t_distro = {}\n",
    "# look through the FAKE group and the REAL group\n",
    "for g,f in df.groupby(y_col):\n",
    "    temp_cat = f.loc[f[y_col] == g,'TITLE_UPPER_CNT'].tolist()\n",
    "    t_distro[g] = pd.Series([int(np.percentile(temp_cat,p)) for p in range(101)])\n",
    "    for cnt in range(word_cnt):    \n",
    "        print('{} News Titles: {}% Contain at least {} Upper Case Word.'.format(g,100-t_distro[g].loc[t_distro[g] > cnt].idxmin(),cnt+1))\n",
    "    print()"
   ]
  },
  {
   "cell_type": "markdown",
   "metadata": {},
   "source": [
    "### Visualize the Information with a boxplot to see if that helps\n",
    "- This shows us that from the median to Q3 of the IQR FAKE articles have 1 upper case word, whereas REAL articles in show an IQR of 0, with only outliters having 1 or more.  This is further evidence that this feature is likely helpful in distinguishing between the two"
   ]
  },
  {
   "cell_type": "code",
   "execution_count": 25,
   "metadata": {},
   "outputs": [
    {
     "name": "stderr",
     "output_type": "stream",
     "text": [
      "/usr/local/lib/python3.7/site-packages/seaborn/_decorators.py:43: FutureWarning: Pass the following variables as keyword args: x, y. From version 0.12, the only valid positional argument will be `data`, and passing other arguments without an explicit keyword will result in an error or misinterpretation.\n",
      "  FutureWarning\n"
     ]
    },
    {
     "data": {
      "image/png": "[encoded data removed]",
      "text/plain": [
       "<Figure size 360x360 with 1 Axes>"
      ]
     },
     "metadata": {
      "needs_background": "light"
     },
     "output_type": "display_data"
    }
   ],
   "source": [
    "# Import the necessary visualization packages\n",
    "import matplotlib.pyplot as plt\n",
    "import seaborn as sns\n",
    "import scipy.stats as sp\n",
    "import numpy as np\n",
    "%matplotlib inline\n",
    "\n",
    "# check visually with BoxPlot\n",
    "plt.figure(figsize=(5,5))\n",
    "sns.boxplot(df[y_col],df['TITLE_UPPER_CNT'])\n",
    "plt.yticks(range(0,19,2))\n",
    "plt.title('Distribution of All Caps Words in Title')\n",
    "plt.show()"
   ]
  },
  {
   "cell_type": "markdown",
   "metadata": {},
   "source": [
    "### Let's try zooming in on this upper half of the distribution and visualizing the Information with line graphs to get a more detailed view"
   ]
  },
  {
   "cell_type": "code",
   "execution_count": 26,
   "metadata": {
    "scrolled": false
   },
   "outputs": [
    {
     "data": {
      "image/png": "[encoded data removed]",
      "text/plain": [
       "<Figure size 504x360 with 1 Axes>"
      ]
     },
     "metadata": {
      "needs_background": "light"
     },
     "output_type": "display_data"
    }
   ],
   "source": [
    "d_color = {'FAKE':'orange','REAL':'blue'}\n",
    "\n",
    "f = plt.figure(figsize=(7,5))\n",
    "ax = f.add_subplot(111)\n",
    "#ax.yaxis.tick_right()\n",
    "\n",
    "plt.xticks(range(0,t_distro['FAKE'].index.max()+1,10))\n",
    "plt.ylim([0,t_distro['FAKE'].values.max()+1])\n",
    "plt.yticks(range(0,20,2))\n",
    "plt.title('Is there a difference in Quanity of Uppercase Words\\n in Real vs Fake News Article Titles?')\n",
    "plt.xlabel('Distribution Percentile')\n",
    "plt.ylabel('Count of Uppercase Words')\n",
    "\n",
    "\n",
    "plt.plot(t_distro['FAKE'].index.tolist()[50:],t_distro['FAKE'].values.tolist()[50:],color=d_color['FAKE'],label='FAKE')\n",
    "plt.plot(t_distro['REAL'].index.tolist()[50:],t_distro['REAL'].values.tolist()[50:],color=d_color['REAL'],label='REAL')\n",
    "\n",
    "plt.text(x=t_distro['FAKE'].index.max()-1.2, y =t_distro['FAKE'].values.max()+.3,s='FAKE',color=d_color['FAKE'])\n",
    "plt.text(x=t_distro['REAL'].index.max()-1.2, y =t_distro['REAL'].values.max()+.3,s='REAL',color=d_color['REAL'])\n",
    "#plt.legend(bbox_to_anchor=(1, 1),\n",
    "#           bbox_transform=plt.gcf().transFigure)\n",
    "plt.show()\n"
   ]
  },
  {
   "cell_type": "markdown",
   "metadata": {},
   "source": [
    "### Looks promising to add this feature, but to validate this hypothesis check using a two-way Chi-Square test.\n",
    "- Here we see that FAKE articles have a long tail, with up to 17 uppercase words in a single title, whereas the REAL artilces have up to a maximum of 5 in a single instance.  And only 5 REAL articles out of the 3100+ samples have more than 2 uppercase words."
   ]
  },
  {
   "cell_type": "code",
   "execution_count": 122,
   "metadata": {},
   "outputs": [
    {
     "data": {
      "text/html": [
       "<div>\n",
       "<style scoped>\n",
       "    .dataframe tbody tr th:only-of-type {\n",
       "        vertical-align: middle;\n",
       "    }\n",
       "\n",
       "    .dataframe tbody tr th {\n",
       "        vertical-align: top;\n",
       "    }\n",
       "\n",
       "    .dataframe thead th {\n",
       "        text-align: right;\n",
       "    }\n",
       "</style>\n",
       "<table border=\"1\" class=\"dataframe\">\n",
       "  <thead>\n",
       "    <tr style=\"text-align: right;\">\n",
       "      <th>TITLE_UPPER_CNT</th>\n",
       "      <th>0</th>\n",
       "      <th>1</th>\n",
       "      <th>2</th>\n",
       "      <th>3</th>\n",
       "      <th>4</th>\n",
       "      <th>5</th>\n",
       "      <th>6</th>\n",
       "      <th>7</th>\n",
       "      <th>8</th>\n",
       "      <th>9</th>\n",
       "      <th>10</th>\n",
       "      <th>11</th>\n",
       "      <th>12</th>\n",
       "      <th>13</th>\n",
       "      <th>14</th>\n",
       "      <th>15</th>\n",
       "      <th>16</th>\n",
       "      <th>17</th>\n",
       "    </tr>\n",
       "    <tr>\n",
       "      <th>label</th>\n",
       "      <th></th>\n",
       "      <th></th>\n",
       "      <th></th>\n",
       "      <th></th>\n",
       "      <th></th>\n",
       "      <th></th>\n",
       "      <th></th>\n",
       "      <th></th>\n",
       "      <th></th>\n",
       "      <th></th>\n",
       "      <th></th>\n",
       "      <th></th>\n",
       "      <th></th>\n",
       "      <th></th>\n",
       "      <th></th>\n",
       "      <th></th>\n",
       "      <th></th>\n",
       "      <th></th>\n",
       "    </tr>\n",
       "  </thead>\n",
       "  <tbody>\n",
       "    <tr>\n",
       "      <th>FAKE</th>\n",
       "      <td>1985</td>\n",
       "      <td>785</td>\n",
       "      <td>213</td>\n",
       "      <td>69</td>\n",
       "      <td>31</td>\n",
       "      <td>12</td>\n",
       "      <td>6</td>\n",
       "      <td>9</td>\n",
       "      <td>6</td>\n",
       "      <td>11</td>\n",
       "      <td>7</td>\n",
       "      <td>5</td>\n",
       "      <td>7</td>\n",
       "      <td>6</td>\n",
       "      <td>6</td>\n",
       "      <td>1</td>\n",
       "      <td>4</td>\n",
       "      <td>1</td>\n",
       "    </tr>\n",
       "    <tr>\n",
       "      <th>REAL</th>\n",
       "      <td>2469</td>\n",
       "      <td>632</td>\n",
       "      <td>65</td>\n",
       "      <td>2</td>\n",
       "      <td>2</td>\n",
       "      <td>1</td>\n",
       "      <td>0</td>\n",
       "      <td>0</td>\n",
       "      <td>0</td>\n",
       "      <td>0</td>\n",
       "      <td>0</td>\n",
       "      <td>0</td>\n",
       "      <td>0</td>\n",
       "      <td>0</td>\n",
       "      <td>0</td>\n",
       "      <td>0</td>\n",
       "      <td>0</td>\n",
       "      <td>0</td>\n",
       "    </tr>\n",
       "  </tbody>\n",
       "</table>\n",
       "</div>"
      ],
      "text/plain": [
       "TITLE_UPPER_CNT    0    1    2   3   4   5   6   7   8   9   10  11  12  13  \\\n",
       "label                                                                         \n",
       "FAKE             1985  785  213  69  31  12   6   9   6  11   7   5   7   6   \n",
       "REAL             2469  632   65   2   2   1   0   0   0   0   0   0   0   0   \n",
       "\n",
       "TITLE_UPPER_CNT  14  15  16  17  \n",
       "label                            \n",
       "FAKE              6   1   4   1  \n",
       "REAL              0   0   0   0  "
      ]
     },
     "execution_count": 122,
     "metadata": {},
     "output_type": "execute_result"
    }
   ],
   "source": [
    "tbl_contingency = pd.crosstab(df[y_col],df['TITLE_UPPER_CNT'])\n",
    "tbl_contingency"
   ]
  },
  {
   "cell_type": "markdown",
   "metadata": {},
   "source": [
    "### Given the extreme outliers in REAL articles with more than 2 uppercase words, let's refactor this feature as 0,1 2, or 2+ (encoded as 3) upper case words\n",
    "- This will enable us to use the Chi-Squared test, which operates under the assumption that 80% of cells in the contingency table contain a value count of at least 5, with no cells having less a value count of less than 1.\n",
    "\n",
    "\n",
    "- An added advantage is that when we get to the modeling phase, a simplified feature would be more generalizable by a model since it will only result in 4 levels for a model to consider as opposed to 18."
   ]
  },
  {
   "cell_type": "code",
   "execution_count": 27,
   "metadata": {},
   "outputs": [],
   "source": [
    "df['TITLE_UPPER_CNT_2'] = df['TITLE_UPPER_CNT'].apply(lambda x: x if x <=2 else 3)"
   ]
  },
  {
   "cell_type": "code",
   "execution_count": 28,
   "metadata": {},
   "outputs": [
    {
     "data": {
      "text/html": [
       "<div>\n",
       "<style scoped>\n",
       "    .dataframe tbody tr th:only-of-type {\n",
       "        vertical-align: middle;\n",
       "    }\n",
       "\n",
       "    .dataframe tbody tr th {\n",
       "        vertical-align: top;\n",
       "    }\n",
       "\n",
       "    .dataframe thead th {\n",
       "        text-align: right;\n",
       "    }\n",
       "</style>\n",
       "<table border=\"1\" class=\"dataframe\">\n",
       "  <thead>\n",
       "    <tr style=\"text-align: right;\">\n",
       "      <th>TITLE_UPPER_CNT_2</th>\n",
       "      <th>0</th>\n",
       "      <th>1</th>\n",
       "      <th>2</th>\n",
       "      <th>3</th>\n",
       "    </tr>\n",
       "    <tr>\n",
       "      <th>label</th>\n",
       "      <th></th>\n",
       "      <th></th>\n",
       "      <th></th>\n",
       "      <th></th>\n",
       "    </tr>\n",
       "  </thead>\n",
       "  <tbody>\n",
       "    <tr>\n",
       "      <th>FAKE</th>\n",
       "      <td>1985</td>\n",
       "      <td>785</td>\n",
       "      <td>213</td>\n",
       "      <td>181</td>\n",
       "    </tr>\n",
       "    <tr>\n",
       "      <th>REAL</th>\n",
       "      <td>2469</td>\n",
       "      <td>632</td>\n",
       "      <td>65</td>\n",
       "      <td>5</td>\n",
       "    </tr>\n",
       "  </tbody>\n",
       "</table>\n",
       "</div>"
      ],
      "text/plain": [
       "TITLE_UPPER_CNT_2     0    1    2    3\n",
       "label                                 \n",
       "FAKE               1985  785  213  181\n",
       "REAL               2469  632   65    5"
      ]
     },
     "execution_count": 28,
     "metadata": {},
     "output_type": "execute_result"
    }
   ],
   "source": [
    "tbl_contingency = pd.crosstab(df[y_col],df['TITLE_UPPER_CNT_2'])\n",
    "tbl_contingency"
   ]
  },
  {
   "cell_type": "markdown",
   "metadata": {},
   "source": [
    "### The Chi-Squared test will help confirm our hypothesis, that the target variable is likely dependent on the engineered feature variable of Uppercase word count in the Title\n",
    "- We will use a signifigance threshold of 5% (alpha) in our two-way test"
   ]
  },
  {
   "cell_type": "code",
   "execution_count": 29,
   "metadata": {},
   "outputs": [],
   "source": [
    "# Set the alpha for significant to 5%.  It is important to set the significance level prior to testing\n",
    "alpha = 0.05\n",
    "# Perform a two-way chi-square test to determine if there is likely a relationship between the target variable \n",
    "# (FAKE vs REAL) and the count of upper case words in the Title\n",
    "stat, p, dof, expected = chi2_contingency(tbl_contingency)"
   ]
  },
  {
   "cell_type": "markdown",
   "metadata": {},
   "source": [
    "### Take a look at the expected output of the distrubtions \n",
    "- This visual check will ensure that enough cells (80%) have a value of at least 5 or more so that we know we can trust the test results"
   ]
  },
  {
   "cell_type": "code",
   "execution_count": 30,
   "metadata": {},
   "outputs": [
    {
     "data": {
      "text/html": [
       "<div>\n",
       "<style scoped>\n",
       "    .dataframe tbody tr th:only-of-type {\n",
       "        vertical-align: middle;\n",
       "    }\n",
       "\n",
       "    .dataframe tbody tr th {\n",
       "        vertical-align: top;\n",
       "    }\n",
       "\n",
       "    .dataframe thead th {\n",
       "        text-align: right;\n",
       "    }\n",
       "</style>\n",
       "<table border=\"1\" class=\"dataframe\">\n",
       "  <thead>\n",
       "    <tr style=\"text-align: right;\">\n",
       "      <th></th>\n",
       "      <th>0</th>\n",
       "      <th>1</th>\n",
       "      <th>2</th>\n",
       "      <th>3</th>\n",
       "    </tr>\n",
       "  </thead>\n",
       "  <tbody>\n",
       "    <tr>\n",
       "      <th>FAKE</th>\n",
       "      <td>2224.539227</td>\n",
       "      <td>707.717127</td>\n",
       "      <td>138.846409</td>\n",
       "      <td>92.897238</td>\n",
       "    </tr>\n",
       "    <tr>\n",
       "      <th>REAL</th>\n",
       "      <td>2229.460773</td>\n",
       "      <td>709.282873</td>\n",
       "      <td>139.153591</td>\n",
       "      <td>93.102762</td>\n",
       "    </tr>\n",
       "  </tbody>\n",
       "</table>\n",
       "</div>"
      ],
      "text/plain": [
       "                0           1           2          3\n",
       "FAKE  2224.539227  707.717127  138.846409  92.897238\n",
       "REAL  2229.460773  709.282873  139.153591  93.102762"
      ]
     },
     "execution_count": 30,
     "metadata": {},
     "output_type": "execute_result"
    }
   ],
   "source": [
    "# Expected Distribution assuming two independent variables\n",
    "pd.DataFrame(expected,index=df[y_col].unique())"
   ]
  },
  {
   "cell_type": "markdown",
   "metadata": {},
   "source": [
    "### Check to see if there is a significant p-value  and at the associated Chi-Square test statistic \n",
    "- This will indicate how different our acrtual distributions are from the expected distributions \n",
    "- This shows an extremely large test statistic, indicating why the p-value was nearly 0.\n",
    "- Based on these results it is likely that the target variable (FAKE vs REAL) is dependent on the independent variable of  that we should look at including this engineering feature in our model"
   ]
  },
  {
   "cell_type": "code",
   "execution_count": 31,
   "metadata": {},
   "outputs": [
    {
     "name": "stdout",
     "output_type": "stream",
     "text": [
      "A Chi-square statistic of 314.44 with a p-value of 0.00 indicates this result is likely significant.\n"
     ]
    }
   ],
   "source": [
    "sig = 'not significant' if p > alpha else 'significant'\n",
    "print('A Chi-square statistic of {:.2f} with a p-value of {:.2f} indicates this result is likely {}.'.format(stat,p,sig))"
   ]
  },
  {
   "cell_type": "markdown",
   "metadata": {},
   "source": [
    "### We can repeat the process for the TEXT column feature\n",
    "- The quartile breakdown show with the pandas describe method coupled with the boxplot visualization indicates these distrubtions are somewhat similar, especially compare to the Title feature"
   ]
  },
  {
   "cell_type": "code",
   "execution_count": 32,
   "metadata": {},
   "outputs": [
    {
     "data": {
      "text/html": [
       "<div>\n",
       "<style scoped>\n",
       "    .dataframe tbody tr th:only-of-type {\n",
       "        vertical-align: middle;\n",
       "    }\n",
       "\n",
       "    .dataframe tbody tr th {\n",
       "        vertical-align: top;\n",
       "    }\n",
       "\n",
       "    .dataframe thead tr th {\n",
       "        text-align: left;\n",
       "    }\n",
       "\n",
       "    .dataframe thead tr:last-of-type th {\n",
       "        text-align: right;\n",
       "    }\n",
       "</style>\n",
       "<table border=\"1\" class=\"dataframe\">\n",
       "  <thead>\n",
       "    <tr>\n",
       "      <th></th>\n",
       "      <th colspan=\"8\" halign=\"left\">TEXT_UPPER_CNT</th>\n",
       "    </tr>\n",
       "    <tr>\n",
       "      <th></th>\n",
       "      <th>count</th>\n",
       "      <th>mean</th>\n",
       "      <th>std</th>\n",
       "      <th>min</th>\n",
       "      <th>25%</th>\n",
       "      <th>50%</th>\n",
       "      <th>75%</th>\n",
       "      <th>max</th>\n",
       "    </tr>\n",
       "    <tr>\n",
       "      <th>label</th>\n",
       "      <th></th>\n",
       "      <th></th>\n",
       "      <th></th>\n",
       "      <th></th>\n",
       "      <th></th>\n",
       "      <th></th>\n",
       "      <th></th>\n",
       "      <th></th>\n",
       "    </tr>\n",
       "  </thead>\n",
       "  <tbody>\n",
       "    <tr>\n",
       "      <th>FAKE</th>\n",
       "      <td>3164.0</td>\n",
       "      <td>12.999684</td>\n",
       "      <td>24.818997</td>\n",
       "      <td>0.0</td>\n",
       "      <td>3.0</td>\n",
       "      <td>7.0</td>\n",
       "      <td>15.0</td>\n",
       "      <td>697.0</td>\n",
       "    </tr>\n",
       "    <tr>\n",
       "      <th>REAL</th>\n",
       "      <td>3171.0</td>\n",
       "      <td>10.690634</td>\n",
       "      <td>13.385306</td>\n",
       "      <td>0.0</td>\n",
       "      <td>3.0</td>\n",
       "      <td>7.0</td>\n",
       "      <td>14.0</td>\n",
       "      <td>146.0</td>\n",
       "    </tr>\n",
       "  </tbody>\n",
       "</table>\n",
       "</div>"
      ],
      "text/plain": [
       "      TEXT_UPPER_CNT                                                  \n",
       "               count       mean        std  min  25%  50%   75%    max\n",
       "label                                                                 \n",
       "FAKE          3164.0  12.999684  24.818997  0.0  3.0  7.0  15.0  697.0\n",
       "REAL          3171.0  10.690634  13.385306  0.0  3.0  7.0  14.0  146.0"
      ]
     },
     "execution_count": 32,
     "metadata": {},
     "output_type": "execute_result"
    }
   ],
   "source": [
    "df[['TEXT_UPPER_CNT',y_col]].groupby(y_col).describe()"
   ]
  },
  {
   "cell_type": "code",
   "execution_count": 33,
   "metadata": {},
   "outputs": [
    {
     "name": "stderr",
     "output_type": "stream",
     "text": [
      "/usr/local/lib/python3.7/site-packages/seaborn/_decorators.py:43: FutureWarning: Pass the following variables as keyword args: x, y. From version 0.12, the only valid positional argument will be `data`, and passing other arguments without an explicit keyword will result in an error or misinterpretation.\n",
      "  FutureWarning\n"
     ]
    },
    {
     "data": {
      "image/png": "[encoded data removed]",
      "text/plain": [
       "<Figure size 360x360 with 1 Axes>"
      ]
     },
     "metadata": {
      "needs_background": "light"
     },
     "output_type": "display_data"
    }
   ],
   "source": [
    "# check visually with BoxPlot\n",
    "plt.figure(figsize=(5,5))\n",
    "sns.boxplot(df[y_col],np.log1p(df['TEXT_UPPER_CNT']))\n",
    "#plt.yticks(range(0,19,2))\n",
    "plt.title('Distribution of All Caps Words in Text')\n",
    "plt.show()"
   ]
  },
  {
   "cell_type": "markdown",
   "metadata": {},
   "source": [
    "### For completeness, let's confirm with the two-way Chi-Squared test\n",
    "- Looking at the contingency table, no good cutoff number emerges since both FAKE and REAL articles have such large numbers"
   ]
  },
  {
   "cell_type": "code",
   "execution_count": 34,
   "metadata": {},
   "outputs": [
    {
     "data": {
      "text/html": [
       "<div>\n",
       "<style scoped>\n",
       "    .dataframe tbody tr th:only-of-type {\n",
       "        vertical-align: middle;\n",
       "    }\n",
       "\n",
       "    .dataframe tbody tr th {\n",
       "        vertical-align: top;\n",
       "    }\n",
       "\n",
       "    .dataframe thead th {\n",
       "        text-align: right;\n",
       "    }\n",
       "</style>\n",
       "<table border=\"1\" class=\"dataframe\">\n",
       "  <thead>\n",
       "    <tr style=\"text-align: right;\">\n",
       "      <th>TEXT_UPPER_CNT</th>\n",
       "      <th>0</th>\n",
       "      <th>1</th>\n",
       "      <th>2</th>\n",
       "      <th>3</th>\n",
       "      <th>4</th>\n",
       "      <th>5</th>\n",
       "      <th>6</th>\n",
       "      <th>7</th>\n",
       "      <th>8</th>\n",
       "      <th>9</th>\n",
       "      <th>...</th>\n",
       "      <th>166</th>\n",
       "      <th>171</th>\n",
       "      <th>184</th>\n",
       "      <th>200</th>\n",
       "      <th>223</th>\n",
       "      <th>272</th>\n",
       "      <th>282</th>\n",
       "      <th>348</th>\n",
       "      <th>446</th>\n",
       "      <th>697</th>\n",
       "    </tr>\n",
       "    <tr>\n",
       "      <th>label</th>\n",
       "      <th></th>\n",
       "      <th></th>\n",
       "      <th></th>\n",
       "      <th></th>\n",
       "      <th></th>\n",
       "      <th></th>\n",
       "      <th></th>\n",
       "      <th></th>\n",
       "      <th></th>\n",
       "      <th></th>\n",
       "      <th></th>\n",
       "      <th></th>\n",
       "      <th></th>\n",
       "      <th></th>\n",
       "      <th></th>\n",
       "      <th></th>\n",
       "      <th></th>\n",
       "      <th></th>\n",
       "      <th></th>\n",
       "      <th></th>\n",
       "      <th></th>\n",
       "    </tr>\n",
       "  </thead>\n",
       "  <tbody>\n",
       "    <tr>\n",
       "      <th>FAKE</th>\n",
       "      <td>266</td>\n",
       "      <td>235</td>\n",
       "      <td>234</td>\n",
       "      <td>211</td>\n",
       "      <td>215</td>\n",
       "      <td>188</td>\n",
       "      <td>173</td>\n",
       "      <td>145</td>\n",
       "      <td>135</td>\n",
       "      <td>119</td>\n",
       "      <td>...</td>\n",
       "      <td>1</td>\n",
       "      <td>1</td>\n",
       "      <td>1</td>\n",
       "      <td>1</td>\n",
       "      <td>1</td>\n",
       "      <td>2</td>\n",
       "      <td>1</td>\n",
       "      <td>1</td>\n",
       "      <td>1</td>\n",
       "      <td>1</td>\n",
       "    </tr>\n",
       "    <tr>\n",
       "      <th>REAL</th>\n",
       "      <td>276</td>\n",
       "      <td>177</td>\n",
       "      <td>186</td>\n",
       "      <td>183</td>\n",
       "      <td>200</td>\n",
       "      <td>220</td>\n",
       "      <td>196</td>\n",
       "      <td>175</td>\n",
       "      <td>184</td>\n",
       "      <td>132</td>\n",
       "      <td>...</td>\n",
       "      <td>0</td>\n",
       "      <td>0</td>\n",
       "      <td>0</td>\n",
       "      <td>0</td>\n",
       "      <td>0</td>\n",
       "      <td>0</td>\n",
       "      <td>0</td>\n",
       "      <td>0</td>\n",
       "      <td>0</td>\n",
       "      <td>0</td>\n",
       "    </tr>\n",
       "  </tbody>\n",
       "</table>\n",
       "<p>2 rows × 126 columns</p>\n",
       "</div>"
      ],
      "text/plain": [
       "TEXT_UPPER_CNT  0    1    2    3    4    5    6    7    8    9    ...  166  \\\n",
       "label                                                             ...        \n",
       "FAKE            266  235  234  211  215  188  173  145  135  119  ...    1   \n",
       "REAL            276  177  186  183  200  220  196  175  184  132  ...    0   \n",
       "\n",
       "TEXT_UPPER_CNT  171  184  200  223  272  282  348  446  697  \n",
       "label                                                        \n",
       "FAKE              1    1    1    1    2    1    1    1    1  \n",
       "REAL              0    0    0    0    0    0    0    0    0  \n",
       "\n",
       "[2 rows x 126 columns]"
      ]
     },
     "execution_count": 34,
     "metadata": {},
     "output_type": "execute_result"
    }
   ],
   "source": [
    "tbl_contingency = pd.crosstab(df[y_col],df['TEXT_UPPER_CNT'])\n",
    "tbl_contingency"
   ]
  },
  {
   "cell_type": "markdown",
   "metadata": {},
   "source": [
    "### Maybe a closer look at the distributions will help\n",
    "# NB: CONVERT THIS TO A HISTO OR BARPLOT"
   ]
  },
  {
   "cell_type": "code",
   "execution_count": 35,
   "metadata": {},
   "outputs": [
    {
     "name": "stdout",
     "output_type": "stream",
     "text": [
      "FAKE News TEXT: 91% Contain at least 1 Upper Case Word.\n",
      "FAKE News TEXT: 84% Contain at least 2 Upper Case Word.\n",
      "FAKE News TEXT: 76% Contain at least 3 Upper Case Word.\n",
      "FAKE News TEXT: 70% Contain at least 4 Upper Case Word.\n",
      "FAKE News TEXT: 63% Contain at least 5 Upper Case Word.\n",
      "\n",
      "REAL News TEXT: 91% Contain at least 1 Upper Case Word.\n",
      "REAL News TEXT: 85% Contain at least 2 Upper Case Word.\n",
      "REAL News TEXT: 79% Contain at least 3 Upper Case Word.\n",
      "REAL News TEXT: 74% Contain at least 4 Upper Case Word.\n",
      "REAL News TEXT: 67% Contain at least 5 Upper Case Word.\n",
      "\n"
     ]
    }
   ],
   "source": [
    "word_cnt = 5\n",
    "t_distro = {}\n",
    "for g,f in df.groupby(y_col):\n",
    "    temp_cat = f.loc[f[y_col] == g,'TEXT_UPPER_CNT'].tolist()\n",
    "    t_distro[g] = pd.Series([int(np.percentile(temp_cat,p)) for p in range(101)])\n",
    "    for cnt in range(word_cnt):    \n",
    "        print('{} News TEXT: {}% Contain at least {} Upper Case Word.'.format(g,100-t_distro[g].loc[t_distro[g] > cnt].idxmin(),cnt+1))\n",
    "    print()"
   ]
  },
  {
   "cell_type": "markdown",
   "metadata": {},
   "source": [
    "#### A graph of these respective distributions shows they diverge at the tail ends\n",
    "- Zooming in on the upper 10% of the distribution, shows divergence at the 99th percentile.\n",
    "- Given this and the raw numbers from the t_distro cell above, I will set the upper end for both to 10 to balance feature value and model simplicity"
   ]
  },
  {
   "cell_type": "code",
   "execution_count": 36,
   "metadata": {},
   "outputs": [
    {
     "data": {
      "image/png": "[encoded data removed]",
      "text/plain": [
       "<Figure size 504x360 with 1 Axes>"
      ]
     },
     "metadata": {
      "needs_background": "light"
     },
     "output_type": "display_data"
    }
   ],
   "source": [
    "# MAKE THIS INTO A FUNCTION\n",
    "d_color = {'FAKE':'orange','REAL':'blue'}\n",
    "\n",
    "zoom_lower = 90\n",
    "zoom_upper = None\n",
    "f = plt.figure(figsize=(7,5))\n",
    "ax = f.add_subplot(111)\n",
    "#ax.yaxis.tick_right()\n",
    "\n",
    "plt.xticks(range(0,t_distro['FAKE'].index.max()+1,10))\n",
    "plt.ylim([0,t_distro['FAKE'].values.max()+1])\n",
    "plt.yticks(range(0,751,50))\n",
    "plt.xticks(range(90,101,1))\n",
    "plt.title('Is there a difference in Quanity of Uppercase Words\\n in Real vs Fake News Article Titles?')\n",
    "plt.xlabel('Distribution Percentile')\n",
    "plt.ylabel('Count of Uppercase Words')\n",
    "\n",
    "\n",
    "plt.plot(t_distro['FAKE'].index.tolist()[zoom_lower:zoom_upper],t_distro['FAKE'].values.tolist()[zoom_lower:zoom_upper],color=d_color['FAKE'],label='FAKE')\n",
    "plt.plot(t_distro['REAL'].index.tolist()[zoom_lower:zoom_upper],t_distro['REAL'].values.tolist()[zoom_lower:zoom_upper],color=d_color['REAL'],label='REAL')\n",
    "\n",
    "plt.text(x=t_distro['FAKE'].index.max()-1.2, y =t_distro['FAKE'].values.max()+.3,s='FAKE',color=d_color['FAKE'])\n",
    "plt.text(x=t_distro['REAL'].index.max()-1.2, y =t_distro['REAL'].values.max()+.3,s='REAL',color=d_color['REAL'])\n",
    "#plt.legend(bbox_to_anchor=(1, 1),\n",
    "#           bbox_transform=plt.gcf().transFigure)\n",
    "plt.show()"
   ]
  },
  {
   "cell_type": "markdown",
   "metadata": {},
   "source": [
    "### Limiting the value count to 10 is a compromise between extracting value from the feature while at the same time minimizing complexity of the model that will likely be quite sparce once the text is converted to a document term matrix of tfidf scores.\n",
    "- An instance of the bias-variance trade-off.  Including the entire range of known values would increase the variability, but would increase model complexity and lead to overfitting of any model we build later."
   ]
  },
  {
   "cell_type": "code",
   "execution_count": 37,
   "metadata": {},
   "outputs": [],
   "source": [
    "df['TEXT_UPPER_CNT_2'] = df['TEXT_UPPER_CNT'].apply(lambda x: x if x <=9 else 10)"
   ]
  },
  {
   "cell_type": "code",
   "execution_count": 38,
   "metadata": {},
   "outputs": [
    {
     "data": {
      "text/html": [
       "<div>\n",
       "<style scoped>\n",
       "    .dataframe tbody tr th:only-of-type {\n",
       "        vertical-align: middle;\n",
       "    }\n",
       "\n",
       "    .dataframe tbody tr th {\n",
       "        vertical-align: top;\n",
       "    }\n",
       "\n",
       "    .dataframe thead th {\n",
       "        text-align: right;\n",
       "    }\n",
       "</style>\n",
       "<table border=\"1\" class=\"dataframe\">\n",
       "  <thead>\n",
       "    <tr style=\"text-align: right;\">\n",
       "      <th>TEXT_UPPER_CNT_2</th>\n",
       "      <th>0</th>\n",
       "      <th>1</th>\n",
       "      <th>2</th>\n",
       "      <th>3</th>\n",
       "      <th>4</th>\n",
       "      <th>5</th>\n",
       "      <th>6</th>\n",
       "      <th>7</th>\n",
       "      <th>8</th>\n",
       "      <th>9</th>\n",
       "      <th>10</th>\n",
       "    </tr>\n",
       "    <tr>\n",
       "      <th>label</th>\n",
       "      <th></th>\n",
       "      <th></th>\n",
       "      <th></th>\n",
       "      <th></th>\n",
       "      <th></th>\n",
       "      <th></th>\n",
       "      <th></th>\n",
       "      <th></th>\n",
       "      <th></th>\n",
       "      <th></th>\n",
       "      <th></th>\n",
       "    </tr>\n",
       "  </thead>\n",
       "  <tbody>\n",
       "    <tr>\n",
       "      <th>FAKE</th>\n",
       "      <td>266</td>\n",
       "      <td>235</td>\n",
       "      <td>234</td>\n",
       "      <td>211</td>\n",
       "      <td>215</td>\n",
       "      <td>188</td>\n",
       "      <td>173</td>\n",
       "      <td>145</td>\n",
       "      <td>135</td>\n",
       "      <td>119</td>\n",
       "      <td>1243</td>\n",
       "    </tr>\n",
       "    <tr>\n",
       "      <th>REAL</th>\n",
       "      <td>276</td>\n",
       "      <td>177</td>\n",
       "      <td>186</td>\n",
       "      <td>183</td>\n",
       "      <td>200</td>\n",
       "      <td>220</td>\n",
       "      <td>196</td>\n",
       "      <td>175</td>\n",
       "      <td>184</td>\n",
       "      <td>132</td>\n",
       "      <td>1242</td>\n",
       "    </tr>\n",
       "  </tbody>\n",
       "</table>\n",
       "</div>"
      ],
      "text/plain": [
       "TEXT_UPPER_CNT_2   0    1    2    3    4    5    6    7    8    9     10\n",
       "label                                                                   \n",
       "FAKE              266  235  234  211  215  188  173  145  135  119  1243\n",
       "REAL              276  177  186  183  200  220  196  175  184  132  1242"
      ]
     },
     "execution_count": 38,
     "metadata": {},
     "output_type": "execute_result"
    }
   ],
   "source": [
    "tbl_contingency = pd.crosstab(df[y_col],df['TEXT_UPPER_CNT_2'])\n",
    "tbl_contingency"
   ]
  },
  {
   "cell_type": "markdown",
   "metadata": {},
   "source": [
    "### A chi-square test shows that the target feature might be dependent on the number of upperacase words in the text.  \n",
    "- This is not what I hypotheszied, however given this result, I will hold onto the variable for potential use in a model\n",
    "- It is worth noting that "
   ]
  },
  {
   "cell_type": "code",
   "execution_count": 40,
   "metadata": {},
   "outputs": [
    {
     "name": "stdout",
     "output_type": "stream",
     "text": [
      "A Chi-square statistic of 31.32 with a p-value of 0.00 indicates this result is likely significant.\n"
     ]
    }
   ],
   "source": [
    "# Set the alpha for significant to 5%.  It is important to set the significance level prior to testing\n",
    "alpha = 0.05\n",
    "# Perform a two-way chi-square test to determine if there is likely a relationship between the target variable \n",
    "# (FAKE vs REAL) and the count of upper case words in the Title\n",
    "stat, p, dof, expected = chi2_contingency(tbl_contingency)\n",
    "\n",
    "sig = 'not significant' if p > alpha else 'significant'\n",
    "print('A Chi-square statistic of {:.2f} with a p-value of {:.2f} indicates this result is likely {}.'.format(stat,p,sig))"
   ]
  },
  {
   "cell_type": "markdown",
   "metadata": {},
   "source": [
    "## Once we get to the modeling phase we can check to see if this feature does in fact help us achieve a better model"
   ]
  }
 ],
 "metadata": {
  "kernelspec": {
   "display_name": "Python 3",
   "language": "python",
   "name": "python3"
  },
  "language_info": {
   "codemirror_mode": {
    "name": "ipython",
    "version": 3
   },
   "file_extension": ".py",
   "mimetype": "text/x-python",
   "name": "python",
   "nbconvert_exporter": "python",
   "pygments_lexer": "ipython3",
   "version": "3.7.6"
  }
 },
 "nbformat": 4,
 "nbformat_minor": 2
}
