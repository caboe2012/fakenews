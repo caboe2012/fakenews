{
 "cells": [
  {
   "cell_type": "code",
   "execution_count": null,
   "metadata": {},
   "outputs": [],
   "source": [
    "#import nltk\n",
    "from sklearn.feature_extraction.text import CountVectorizer, TfidfVectorizer\n",
    "from sklearn.decomposition import TruncatedSVD\n",
    "from nltk.tokenize import word_tokenize\n",
    "from nltk.stem.WordNetLemmatizer.wordnet_lemmatizer\n",
    "\n",
    "import numpy as np\n",
    "import matplotlib.pyplot as plt\n",
    "\n",
    "\n",
    "import os\n",
    "import pandas as pd"
   ]
  },
  {
   "cell_type": "code",
   "execution_count": null,
   "metadata": {},
   "outputs": [],
   "source": [
    "####################\n",
    "# GLOBAL VARIABLES #\n",
    "####################\n",
    "dta_pth = '../data/'\n",
    "fn = 'news.csv'\n",
    "f_pth = os.path.join(dta_pth,fn)\n",
    "y_map = {'FAKE':0,'REAL':1}\n",
    "X_col = 'title' # can be changed to 'text' to reproduce results for text of article column\n",
    "y_col = 'label'\n",
    "random_state = 42\n",
    "\n",
    "showTokens = True\n",
    "wordnet_lemmatizer = WordNetLemmatizer()\n",
    "\n",
    "\n",
    "df = pd.read_csv(f_pth)\n",
    "print('File \"{}\": {} rows x {} columns\\n'.format(fn,df.shape[0],df.shape[1]))\n",
    "df.info()"
   ]
  },
  {
   "cell_type": "code",
   "execution_count": null,
   "metadata": {},
   "outputs": [],
   "source": [
    "\n"
   ]
  }
 ],
 "metadata": {
  "kernelspec": {
   "display_name": "Python 3",
   "language": "python",
   "name": "python3"
  },
  "language_info": {
   "codemirror_mode": {
    "name": "ipython",
    "version": 3
   },
   "file_extension": ".py",
   "mimetype": "text/x-python",
   "name": "python",
   "nbconvert_exporter": "python",
   "pygments_lexer": "ipython3",
   "version": "3.7.6"
  }
 },
 "nbformat": 4,
 "nbformat_minor": 2
}
