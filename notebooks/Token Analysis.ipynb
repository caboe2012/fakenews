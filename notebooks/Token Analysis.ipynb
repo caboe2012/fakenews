{
 "cells": [
  {
   "cell_type": "code",
   "execution_count": 13,
   "metadata": {},
   "outputs": [],
   "source": [
    "#import nltk\n",
    "import pandas as pd\n",
    "import numpy as np\n",
    "import matplotlib.pyplot as plt\n",
    "import os\n",
    "\n",
    "from sklearn.feature_extraction.text import CountVectorizer, TfidfVectorizer\n",
    "from sklearn.decomposition import TruncatedSVD\n",
    "from nltk.tokenize import word_tokenize\n",
    "from nltk.stem import WordNetLemmatizer"
   ]
  },
  {
   "cell_type": "code",
   "execution_count": 14,
   "metadata": {},
   "outputs": [
    {
     "name": "stdout",
     "output_type": "stream",
     "text": [
      "File \"news.csv\": 6335 rows x 4 columns\n",
      "\n",
      "<class 'pandas.core.frame.DataFrame'>\n",
      "RangeIndex: 6335 entries, 0 to 6334\n",
      "Data columns (total 4 columns):\n",
      "Unnamed: 0    6335 non-null int64\n",
      "title         6335 non-null object\n",
      "text          6335 non-null object\n",
      "label         6335 non-null object\n",
      "dtypes: int64(1), object(3)\n",
      "memory usage: 198.1+ KB\n"
     ]
    }
   ],
   "source": [
    "####################\n",
    "# GLOBAL VARIABLES #\n",
    "####################\n",
    "dta_pth = '../data/'\n",
    "fn = 'news.csv'\n",
    "f_pth = os.path.join(dta_pth,fn)\n",
    "y_map = {'FAKE':0,'REAL':1}\n",
    "X_col = 'title' # can be changed to 'text' to reproduce results for text of article column\n",
    "y_col = 'label'\n",
    "random_state = 42\n",
    "\n",
    "showTokens = True\n",
    "wordnet_lemmatizer = WordNetLemmatizer()\n",
    "\n",
    "df = pd.read_csv(f_pth)\n",
    "print('File \"{}\": {} rows x {} columns\\n'.format(fn,df.shape[0],df.shape[1]))\n",
    "df.info()"
   ]
  },
  {
   "cell_type": "code",
   "execution_count": 15,
   "metadata": {},
   "outputs": [
    {
     "data": {
      "text/plain": [
       "215"
      ]
     },
     "execution_count": 15,
     "metadata": {},
     "output_type": "execute_result"
    }
   ],
   "source": [
    "# Park this for later - try using regex to pull our text/titles that may have been preprocessed differently.\n",
    "a = {i:df['text'].str.contains(r'\\x{}'.format(i)).sum() for i in range(90,101)}\n",
    "sum(list(a.values()))\n"
   ]
  },
  {
   "cell_type": "code",
   "execution_count": null,
   "metadata": {},
   "outputs": [],
   "source": []
  }
 ],
 "metadata": {
  "kernelspec": {
   "display_name": "Python 3",
   "language": "python",
   "name": "python3"
  },
  "language_info": {
   "codemirror_mode": {
    "name": "ipython",
    "version": 3
   },
   "file_extension": ".py",
   "mimetype": "text/x-python",
   "name": "python",
   "nbconvert_exporter": "python",
   "pygments_lexer": "ipython3",
   "version": "3.7.6"
  }
 },
 "nbformat": 4,
 "nbformat_minor": 2
}
